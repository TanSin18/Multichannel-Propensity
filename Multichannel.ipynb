{
 "cells": [
  {
   "cell_type": "markdown",
   "id": "f851b58b-3241-473f-80c4-6878e6b3d61c",
   "metadata": {
    "jupyter": {
     "outputs_hidden": true
    },
    "tags": []
   },
   "source": [
    "## Import Data From BQ"
   ]
  },
  {
   "cell_type": "code",
   "execution_count": 7,
   "id": "44fea042-ac45-4b8e-a8e0-fc6ba798f4da",
   "metadata": {},
   "outputs": [
    {
     "data": {
      "text/html": [
       "<div><div id=bcd4955a-0be2-4731-8732-31015ac62cf2 style=\"display:none; background-color:#9D6CFF; color:white; width:200px; height:30px; padding-left:5px; border-radius:4px; flex-direction:row; justify-content:space-around; align-items:center;\" onmouseover=\"this.style.backgroundColor='#BA9BF8'\" onmouseout=\"this.style.backgroundColor='#9D6CFF'\" onclick=\"window.commands?.execute('create-mitosheet-from-dataframe-output');\">See Full Dataframe in Mito</div> <script> if (window.commands?.hasCommand('create-mitosheet-from-dataframe-output')) document.getElementById('bcd4955a-0be2-4731-8732-31015ac62cf2').style.display = 'flex' </script> <table border=\"1\" class=\"dataframe\">\n",
       "  <thead>\n",
       "    <tr style=\"text-align: right;\">\n",
       "      <th></th>\n",
       "      <th>customer_id</th>\n",
       "      <th>transaction_guid</th>\n",
       "      <th>transaction_booked_date</th>\n",
       "      <th>src_atg_ecom_order_id</th>\n",
       "      <th>coupon_flag</th>\n",
       "      <th>same_day_delivery_line_indicator</th>\n",
       "      <th>ecom_order_source_code</th>\n",
       "      <th>previous_buy</th>\n",
       "      <th>time_interval</th>\n",
       "      <th>month_interval</th>\n",
       "      <th>...</th>\n",
       "      <th>PCT_TXNS_ON_TXN_DOL_COUPON</th>\n",
       "      <th>PCT_ITEM_PCT_COUPON_DEPTH</th>\n",
       "      <th>PCT_SALES_ON_ITEM_PCT_COUPON</th>\n",
       "      <th>PCT_TXNS_ON_TXN_PCT_COUPON</th>\n",
       "      <th>PCT_ITEMS_ON_TXN_PCT_COUPON</th>\n",
       "      <th>PCT_TXN_PCT_COUPON_DEPTH</th>\n",
       "      <th>NUM_CHANNELS</th>\n",
       "      <th>NUM_CLASSES</th>\n",
       "      <th>NUM_MERCH_DIVISIONS</th>\n",
       "      <th>NUM_PRODUCT_GROUPS</th>\n",
       "    </tr>\n",
       "  </thead>\n",
       "  <tbody>\n",
       "    <tr>\n",
       "      <th>0</th>\n",
       "      <td>1000203452093</td>\n",
       "      <td>4213682474</td>\n",
       "      <td>2021-12-21</td>\n",
       "      <td>BBB3867421219</td>\n",
       "      <td>1</td>\n",
       "      <td>N</td>\n",
       "      <td>BBB</td>\n",
       "      <td>2021-05-16</td>\n",
       "      <td>219</td>\n",
       "      <td>7</td>\n",
       "      <td>...</td>\n",
       "      <td>0.500000</td>\n",
       "      <td>0E-9</td>\n",
       "      <td>0E-9</td>\n",
       "      <td>0.500000</td>\n",
       "      <td>0.166667</td>\n",
       "      <td>0.030841044</td>\n",
       "      <td>1</td>\n",
       "      <td>3</td>\n",
       "      <td>1</td>\n",
       "      <td>1</td>\n",
       "    </tr>\n",
       "    <tr>\n",
       "      <th>1</th>\n",
       "      <td>1000336659944</td>\n",
       "      <td>4237913035</td>\n",
       "      <td>2022-03-22</td>\n",
       "      <td>0</td>\n",
       "      <td>1</td>\n",
       "      <td>None</td>\n",
       "      <td>U</td>\n",
       "      <td>2021-08-29</td>\n",
       "      <td>205</td>\n",
       "      <td>7</td>\n",
       "      <td>...</td>\n",
       "      <td>0.000000</td>\n",
       "      <td>0E-9</td>\n",
       "      <td>0E-9</td>\n",
       "      <td>1.000000</td>\n",
       "      <td>1.000000</td>\n",
       "      <td>0.193714470</td>\n",
       "      <td>1</td>\n",
       "      <td>7</td>\n",
       "      <td>2</td>\n",
       "      <td>1</td>\n",
       "    </tr>\n",
       "    <tr>\n",
       "      <th>2</th>\n",
       "      <td>1000121775575</td>\n",
       "      <td>4254449828</td>\n",
       "      <td>2022-05-14</td>\n",
       "      <td>0</td>\n",
       "      <td>0</td>\n",
       "      <td>None</td>\n",
       "      <td>U</td>\n",
       "      <td>2021-10-29</td>\n",
       "      <td>197</td>\n",
       "      <td>7</td>\n",
       "      <td>...</td>\n",
       "      <td>0.000000</td>\n",
       "      <td>0E-9</td>\n",
       "      <td>0E-9</td>\n",
       "      <td>0.400000</td>\n",
       "      <td>0.388889</td>\n",
       "      <td>0.096594221</td>\n",
       "      <td>2</td>\n",
       "      <td>13</td>\n",
       "      <td>2</td>\n",
       "      <td>1</td>\n",
       "    </tr>\n",
       "    <tr>\n",
       "      <th>3</th>\n",
       "      <td>1000076108154</td>\n",
       "      <td>4174708481</td>\n",
       "      <td>2021-10-28</td>\n",
       "      <td>0</td>\n",
       "      <td>1</td>\n",
       "      <td>None</td>\n",
       "      <td>U</td>\n",
       "      <td>2021-04-21</td>\n",
       "      <td>190</td>\n",
       "      <td>6</td>\n",
       "      <td>...</td>\n",
       "      <td>0.200000</td>\n",
       "      <td>0.121043413</td>\n",
       "      <td>0.131366792</td>\n",
       "      <td>0.000000</td>\n",
       "      <td>0.000000</td>\n",
       "      <td>0E-9</td>\n",
       "      <td>2</td>\n",
       "      <td>12</td>\n",
       "      <td>3</td>\n",
       "      <td>1</td>\n",
       "    </tr>\n",
       "    <tr>\n",
       "      <th>4</th>\n",
       "      <td>1000373276547</td>\n",
       "      <td>4092610397</td>\n",
       "      <td>2021-04-30</td>\n",
       "      <td>0</td>\n",
       "      <td>0</td>\n",
       "      <td>None</td>\n",
       "      <td>U</td>\n",
       "      <td>2020-08-28</td>\n",
       "      <td>245</td>\n",
       "      <td>8</td>\n",
       "      <td>...</td>\n",
       "      <td>0.222222</td>\n",
       "      <td>0.050527584</td>\n",
       "      <td>0.054190492</td>\n",
       "      <td>0.222222</td>\n",
       "      <td>0.250000</td>\n",
       "      <td>0.059082696</td>\n",
       "      <td>1</td>\n",
       "      <td>22</td>\n",
       "      <td>2</td>\n",
       "      <td>1</td>\n",
       "    </tr>\n",
       "  </tbody>\n",
       "</table></div>"
      ],
      "text/plain": [
       "     customer_id  transaction_guid transaction_booked_date  \\\n",
       "0  1000203452093        4213682474              2021-12-21   \n",
       "1  1000336659944        4237913035              2022-03-22   \n",
       "2  1000121775575        4254449828              2022-05-14   \n",
       "3  1000076108154        4174708481              2021-10-28   \n",
       "4  1000373276547        4092610397              2021-04-30   \n",
       "\n",
       "  src_atg_ecom_order_id  coupon_flag same_day_delivery_line_indicator  \\\n",
       "0         BBB3867421219            1                                N   \n",
       "1                     0            1                             None   \n",
       "2                     0            0                             None   \n",
       "3                     0            1                             None   \n",
       "4                     0            0                             None   \n",
       "\n",
       "  ecom_order_source_code previous_buy  time_interval  month_interval  ...  \\\n",
       "0                    BBB   2021-05-16            219               7  ...   \n",
       "1                      U   2021-08-29            205               7  ...   \n",
       "2                      U   2021-10-29            197               7  ...   \n",
       "3                      U   2021-04-21            190               6  ...   \n",
       "4                      U   2020-08-28            245               8  ...   \n",
       "\n",
       "   PCT_TXNS_ON_TXN_DOL_COUPON  PCT_ITEM_PCT_COUPON_DEPTH  \\\n",
       "0                    0.500000                       0E-9   \n",
       "1                    0.000000                       0E-9   \n",
       "2                    0.000000                       0E-9   \n",
       "3                    0.200000                0.121043413   \n",
       "4                    0.222222                0.050527584   \n",
       "\n",
       "  PCT_SALES_ON_ITEM_PCT_COUPON PCT_TXNS_ON_TXN_PCT_COUPON  \\\n",
       "0                         0E-9                   0.500000   \n",
       "1                         0E-9                   1.000000   \n",
       "2                         0E-9                   0.400000   \n",
       "3                  0.131366792                   0.000000   \n",
       "4                  0.054190492                   0.222222   \n",
       "\n",
       "   PCT_ITEMS_ON_TXN_PCT_COUPON  PCT_TXN_PCT_COUPON_DEPTH NUM_CHANNELS  \\\n",
       "0                     0.166667               0.030841044            1   \n",
       "1                     1.000000               0.193714470            1   \n",
       "2                     0.388889               0.096594221            2   \n",
       "3                     0.000000                      0E-9            2   \n",
       "4                     0.250000               0.059082696            1   \n",
       "\n",
       "   NUM_CLASSES  NUM_MERCH_DIVISIONS NUM_PRODUCT_GROUPS  \n",
       "0            3                    1                  1  \n",
       "1            7                    2                  1  \n",
       "2           13                    2                  1  \n",
       "3           12                    3                  1  \n",
       "4           22                    2                  1  \n",
       "\n",
       "[5 rows x 161 columns]"
      ]
     },
     "execution_count": 12,
     "metadata": {},
     "output_type": "execute_result"
    }
   ],
   "source": [
    "from google.oauth2 import service_account\n",
    "from google.cloud import bigquery\n",
    "from google.cloud import bigquery_storage\n",
    "import pandas\n",
    "# importing necessary libraries\n",
    "import pandas as pd\n",
    "import numpy as np\n",
    "import matplotlib.pyplot as plt\n",
    "%matplotlib inline\n",
    "\n",
    "key_path = '/home/jupyter/d00_key.json'\n",
    "credentials = service_account.Credentials.from_service_account_file(\n",
    "    key_path, scopes=[\"https://www.googleapis.com/auth/cloud-platform\"],\n",
    ")\n",
    "\n",
    "bq_client = bigquery.Client(credentials=credentials, project=credentials.project_id)\n",
    "bqstorageclient = bigquery_storage.BigQueryReadClient(credentials=credentials)\n",
    "\n",
    "QUERY = \"\"\"\n",
    "    SELECT * FROM `dw-bq-data-d00.SANDBOX_ANALYTICS.multichannel_cust_attributes_imp_test`\n",
    "    \"\"\"\n",
    "data = bq_client.query(QUERY).result().to_dataframe(bqstorage_client=bqstorageclient)\n",
    "data.head()"
   ]
  },
  {
   "cell_type": "code",
   "execution_count": 23,
   "id": "0fd94aa8-7741-40ea-b3c7-3e7d948459ef",
   "metadata": {},
   "outputs": [
    {
     "data": {
      "text/html": [
       "<div><div id=40cfda1d-c6fd-4caa-b12c-45f7d197b4da style=\"display:none; background-color:#9D6CFF; color:white; width:200px; height:30px; padding-left:5px; border-radius:4px; flex-direction:row; justify-content:space-around; align-items:center;\" onmouseover=\"this.style.backgroundColor='#BA9BF8'\" onmouseout=\"this.style.backgroundColor='#9D6CFF'\" onclick=\"window.commands?.execute('create-mitosheet-from-dataframe-output');\">See Full Dataframe in Mito</div> <script> if (window.commands?.hasCommand('create-mitosheet-from-dataframe-output')) document.getElementById('40cfda1d-c6fd-4caa-b12c-45f7d197b4da').style.display = 'flex' </script> <table border=\"1\" class=\"dataframe\">\n",
       "  <thead>\n",
       "    <tr style=\"text-align: right;\">\n",
       "      <th></th>\n",
       "      <th>customer_id</th>\n",
       "      <th>transaction_guid</th>\n",
       "      <th>transaction_booked_date</th>\n",
       "      <th>src_atg_ecom_order_id</th>\n",
       "      <th>coupon_flag</th>\n",
       "      <th>same_day_delivery_line_indicator</th>\n",
       "      <th>ecom_order_source_code</th>\n",
       "      <th>previous_buy</th>\n",
       "      <th>time_interval</th>\n",
       "      <th>month_interval</th>\n",
       "      <th>...</th>\n",
       "      <th>PCT_TXNS_ON_TXN_DOL_COUPON</th>\n",
       "      <th>PCT_ITEM_PCT_COUPON_DEPTH</th>\n",
       "      <th>PCT_SALES_ON_ITEM_PCT_COUPON</th>\n",
       "      <th>PCT_TXNS_ON_TXN_PCT_COUPON</th>\n",
       "      <th>PCT_ITEMS_ON_TXN_PCT_COUPON</th>\n",
       "      <th>PCT_TXN_PCT_COUPON_DEPTH</th>\n",
       "      <th>NUM_CHANNELS</th>\n",
       "      <th>NUM_CLASSES</th>\n",
       "      <th>NUM_MERCH_DIVISIONS</th>\n",
       "      <th>NUM_PRODUCT_GROUPS</th>\n",
       "    </tr>\n",
       "  </thead>\n",
       "  <tbody>\n",
       "    <tr>\n",
       "      <th>0</th>\n",
       "      <td>1000134084412</td>\n",
       "      <td>4227379356</td>\n",
       "      <td>2022-02-18</td>\n",
       "      <td>BBB6616965097</td>\n",
       "      <td>0</td>\n",
       "      <td>N</td>\n",
       "      <td>BBB</td>\n",
       "      <td>2020-09-27</td>\n",
       "      <td>509</td>\n",
       "      <td>17</td>\n",
       "      <td>...</td>\n",
       "      <td>0.0</td>\n",
       "      <td>0.200000000</td>\n",
       "      <td>0.200000000</td>\n",
       "      <td>0.0</td>\n",
       "      <td>0.0000</td>\n",
       "      <td>0E-9</td>\n",
       "      <td>1</td>\n",
       "      <td>1</td>\n",
       "      <td>1</td>\n",
       "      <td>1</td>\n",
       "    </tr>\n",
       "    <tr>\n",
       "      <th>1</th>\n",
       "      <td>1000212013702</td>\n",
       "      <td>4231418617</td>\n",
       "      <td>2022-03-02</td>\n",
       "      <td>0</td>\n",
       "      <td>1</td>\n",
       "      <td>None</td>\n",
       "      <td>U</td>\n",
       "      <td>2021-08-25</td>\n",
       "      <td>189</td>\n",
       "      <td>7</td>\n",
       "      <td>...</td>\n",
       "      <td>0.0</td>\n",
       "      <td>0.030800000</td>\n",
       "      <td>0.039200000</td>\n",
       "      <td>0.5</td>\n",
       "      <td>0.0385</td>\n",
       "      <td>0.053400000</td>\n",
       "      <td>2</td>\n",
       "      <td>9</td>\n",
       "      <td>6</td>\n",
       "      <td>3</td>\n",
       "    </tr>\n",
       "    <tr>\n",
       "      <th>2</th>\n",
       "      <td>1000131949295</td>\n",
       "      <td>4227399975</td>\n",
       "      <td>2022-02-18</td>\n",
       "      <td>0</td>\n",
       "      <td>1</td>\n",
       "      <td>None</td>\n",
       "      <td>U</td>\n",
       "      <td>2021-03-29</td>\n",
       "      <td>326</td>\n",
       "      <td>11</td>\n",
       "      <td>...</td>\n",
       "      <td>0.0</td>\n",
       "      <td>0.172616316</td>\n",
       "      <td>0.447537473</td>\n",
       "      <td>0.0</td>\n",
       "      <td>0.0000</td>\n",
       "      <td>0E-9</td>\n",
       "      <td>1</td>\n",
       "      <td>4</td>\n",
       "      <td>2</td>\n",
       "      <td>1</td>\n",
       "    </tr>\n",
       "    <tr>\n",
       "      <th>3</th>\n",
       "      <td>1000066561341</td>\n",
       "      <td>4125001940</td>\n",
       "      <td>2021-07-08</td>\n",
       "      <td>0</td>\n",
       "      <td>1</td>\n",
       "      <td>None</td>\n",
       "      <td>U</td>\n",
       "      <td>2020-10-03</td>\n",
       "      <td>278</td>\n",
       "      <td>9</td>\n",
       "      <td>...</td>\n",
       "      <td>1.0</td>\n",
       "      <td>0E-9</td>\n",
       "      <td>0E-9</td>\n",
       "      <td>0.0</td>\n",
       "      <td>0.0000</td>\n",
       "      <td>0E-9</td>\n",
       "      <td>2</td>\n",
       "      <td>5</td>\n",
       "      <td>2</td>\n",
       "      <td>1</td>\n",
       "    </tr>\n",
       "    <tr>\n",
       "      <th>4</th>\n",
       "      <td>1000036266366</td>\n",
       "      <td>4134041171</td>\n",
       "      <td>2021-07-27</td>\n",
       "      <td>0</td>\n",
       "      <td>1</td>\n",
       "      <td>None</td>\n",
       "      <td>U</td>\n",
       "      <td>2020-09-05</td>\n",
       "      <td>325</td>\n",
       "      <td>10</td>\n",
       "      <td>...</td>\n",
       "      <td>0.5</td>\n",
       "      <td>0.067266459</td>\n",
       "      <td>0.067836852</td>\n",
       "      <td>0.0</td>\n",
       "      <td>0.0000</td>\n",
       "      <td>0E-9</td>\n",
       "      <td>1</td>\n",
       "      <td>13</td>\n",
       "      <td>2</td>\n",
       "      <td>1</td>\n",
       "    </tr>\n",
       "  </tbody>\n",
       "</table></div>"
      ],
      "text/plain": [
       "     customer_id  transaction_guid transaction_booked_date  \\\n",
       "0  1000134084412        4227379356              2022-02-18   \n",
       "1  1000212013702        4231418617              2022-03-02   \n",
       "2  1000131949295        4227399975              2022-02-18   \n",
       "3  1000066561341        4125001940              2021-07-08   \n",
       "4  1000036266366        4134041171              2021-07-27   \n",
       "\n",
       "  src_atg_ecom_order_id  coupon_flag same_day_delivery_line_indicator  \\\n",
       "0         BBB6616965097            0                                N   \n",
       "1                     0            1                             None   \n",
       "2                     0            1                             None   \n",
       "3                     0            1                             None   \n",
       "4                     0            1                             None   \n",
       "\n",
       "  ecom_order_source_code previous_buy  time_interval  month_interval  ...  \\\n",
       "0                    BBB   2020-09-27            509              17  ...   \n",
       "1                      U   2021-08-25            189               7  ...   \n",
       "2                      U   2021-03-29            326              11  ...   \n",
       "3                      U   2020-10-03            278               9  ...   \n",
       "4                      U   2020-09-05            325              10  ...   \n",
       "\n",
       "   PCT_TXNS_ON_TXN_DOL_COUPON  PCT_ITEM_PCT_COUPON_DEPTH  \\\n",
       "0                         0.0                0.200000000   \n",
       "1                         0.0                0.030800000   \n",
       "2                         0.0                0.172616316   \n",
       "3                         1.0                       0E-9   \n",
       "4                         0.5                0.067266459   \n",
       "\n",
       "  PCT_SALES_ON_ITEM_PCT_COUPON PCT_TXNS_ON_TXN_PCT_COUPON  \\\n",
       "0                  0.200000000                        0.0   \n",
       "1                  0.039200000                        0.5   \n",
       "2                  0.447537473                        0.0   \n",
       "3                         0E-9                        0.0   \n",
       "4                  0.067836852                        0.0   \n",
       "\n",
       "   PCT_ITEMS_ON_TXN_PCT_COUPON  PCT_TXN_PCT_COUPON_DEPTH NUM_CHANNELS  \\\n",
       "0                       0.0000                      0E-9            1   \n",
       "1                       0.0385               0.053400000            2   \n",
       "2                       0.0000                      0E-9            1   \n",
       "3                       0.0000                      0E-9            2   \n",
       "4                       0.0000                      0E-9            1   \n",
       "\n",
       "   NUM_CLASSES  NUM_MERCH_DIVISIONS NUM_PRODUCT_GROUPS  \n",
       "0            1                    1                  1  \n",
       "1            9                    6                  3  \n",
       "2            4                    2                  1  \n",
       "3            5                    2                  1  \n",
       "4           13                    2                  1  \n",
       "\n",
       "[5 rows x 161 columns]"
      ]
     },
     "execution_count": 23,
     "metadata": {},
     "output_type": "execute_result"
    }
   ],
   "source": [
    "from google.oauth2 import service_account\n",
    "from google.cloud import bigquery\n",
    "from google.cloud import bigquery_storage\n",
    "import pandas\n",
    "# importing necessary libraries\n",
    "import pandas as pd\n",
    "import numpy as np\n",
    "import matplotlib.pyplot as plt\n",
    "%matplotlib inline\n",
    "\n",
    "key_path = '/home/jupyter/d00_key.json'\n",
    "credentials = service_account.Credentials.from_service_account_file(\n",
    "    key_path, scopes=[\"https://www.googleapis.com/auth/cloud-platform\"],\n",
    ")\n",
    "\n",
    "bq_client = bigquery.Client(credentials=credentials, project=credentials.project_id)\n",
    "bqstorageclient = bigquery_storage.BigQueryReadClient(credentials=credentials)\n",
    "\n",
    "QUERY = \"\"\"\n",
    "    SELECT * FROM `dw-bq-data-d00.SANDBOX_ANALYTICS.multichannel_cust_attributes_imp_test2`\n",
    "    \"\"\"\n",
    "data1 = bq_client.query(QUERY).result().to_dataframe(bqstorage_client=bqstorageclient)\n",
    "data1.head()"
   ]
  },
  {
   "cell_type": "code",
   "execution_count": 2,
   "id": "8e77821d-eb15-4692-b96b-5b09fe5f81a8",
   "metadata": {},
   "outputs": [],
   "source": [
    "import warnings\n",
    "warnings.filterwarnings(\"ignore\")"
   ]
  },
  {
   "cell_type": "markdown",
   "id": "c4dfa069-55b4-4225-a9a2-ee43e941235f",
   "metadata": {},
   "source": [
    "## Quick EDA using Pandas Profiling Package"
   ]
  },
  {
   "cell_type": "code",
   "execution_count": null,
   "id": "a96ea8af-935a-478d-8098-510205c1d280",
   "metadata": {
    "tags": []
   },
   "outputs": [],
   "source": [
    "import pandas_profiling\n",
    "from pandas_profiling import ProfileReport\n",
    "profile = ProfileReport(data, minimal=True)\n",
    "profile.to_file(output_file=\"output_min.html\")"
   ]
  },
  {
   "cell_type": "code",
   "execution_count": null,
   "id": "078d17c9-6c97-4348-82be-c59db89b7e2c",
   "metadata": {
    "tags": []
   },
   "outputs": [],
   "source": [
    "#profile.to_notebook_iframe()"
   ]
  },
  {
   "cell_type": "code",
   "execution_count": 62,
   "id": "d9835734-c1f3-4219-8a53-d808d5b30b31",
   "metadata": {},
   "outputs": [],
   "source": [
    "#pd.set_option('display.max_rows', None)\n",
    "pd.options.display.max_rows = 10"
   ]
  },
  {
   "cell_type": "markdown",
   "id": "d15f249f-3c44-4089-9328-dd04af257f5a",
   "metadata": {},
   "source": [
    "## EDA Using custom Function "
   ]
  },
  {
   "cell_type": "code",
   "execution_count": 10,
   "id": "a0c79aa4-56f6-413b-9072-241274524c93",
   "metadata": {},
   "outputs": [],
   "source": [
    "def eda(data):\n",
    "    print(\"----------Top-5- Record----------\")\n",
    "    print(data.head(5))\n",
    "    print(\"-----------Information-----------\")\n",
    "    print(data.info())\n",
    "    print(\"-----------Data Types-----------\")\n",
    "    print(data.dtypes)\n",
    "    print(\"----------Missing value-----------\")\n",
    "    print(data.isnull().sum())\n",
    "    print(\"----------Null value-----------\")\n",
    "    print(data.isna().sum())\n",
    "    print(\"----------Shape of Data----------\")\n",
    "    print(data.shape)\n",
    "    print(\"----------Unique Values----------\")\n",
    "    print(data.nunique(axis=0))"
   ]
  },
  {
   "cell_type": "code",
   "execution_count": null,
   "id": "6e2632a4-3ef7-4e2e-b69e-b3667ae3a038",
   "metadata": {
    "tags": []
   },
   "outputs": [],
   "source": [
    "eda(X_new)"
   ]
  },
  {
   "cell_type": "code",
   "execution_count": 17,
   "id": "e4fa11ac-ab09-4e1f-bfc4-a69c5cc0abe9",
   "metadata": {},
   "outputs": [],
   "source": [
    "cov=pd.DataFrame(data.isnull().sum())"
   ]
  },
  {
   "cell_type": "code",
   "execution_count": 24,
   "id": "42c2d6f8-8171-4eab-b4eb-15481f0957c2",
   "metadata": {},
   "outputs": [],
   "source": [
    "cov1=pd.DataFrame(data1.isnull().sum())"
   ]
  },
  {
   "cell_type": "code",
   "execution_count": 28,
   "id": "7ba54b05-f897-41f9-bc4d-f30601342674",
   "metadata": {},
   "outputs": [],
   "source": [
    "cov1.to_csv('cov_202204.csv')"
   ]
  },
  {
   "cell_type": "markdown",
   "id": "86221f71-f880-4b2b-a29d-2c48f21ddd3a",
   "metadata": {},
   "source": [
    "## Checking Coverage & Dropping Columns below 60% Coverage"
   ]
  },
  {
   "cell_type": "code",
   "execution_count": 14,
   "id": "c553609c-68a6-40f3-a17d-f8ebf1dc53d3",
   "metadata": {},
   "outputs": [
    {
     "name": "stdout",
     "output_type": "stream",
     "text": [
      "same_day_delivery_line_indicator has 37 per cent coverage.\n",
      "last_touch_channel has 30 per cent coverage.\n",
      "BBB_R_2Y has 95 per cent coverage.\n",
      "A_A2779N_PROPEN_SCR_INTNT_01_03 has 94 per cent coverage.\n",
      "A_A2779N_PROPEN_SCR_INTNT_04_07 has 94 per cent coverage.\n",
      "A_A2779N_PROPEN_SCR_INTNT_08_10 has 94 per cent coverage.\n",
      "A_A7467N_RECNT_HOME_BUYER_YES has 94 per cent coverage.\n",
      "A_A7478N_NEW_MOVER_YES has 94 per cent coverage.\n",
      "A_A7779N_CHILD_INTRST_YES has 94 per cent coverage.\n",
      "A_A7830N_HM_IMPROVE_GRP_YES has 94 per cent coverage.\n",
      "A_A7851N_HM_IMPROVE_DIY_YES has 94 per cent coverage.\n",
      "A_A8271N_HM_LIVING_IND_YES has 94 per cent coverage.\n",
      "A_A8588N_HM_SQR_FT has 94 per cent coverage.\n",
      "A_A8589N_HM_LOT_SQR_FT has 94 per cent coverage.\n",
      "A_A8592N_HM_YR_BUILT has 94 per cent coverage.\n",
      "A_A8606N_HM_OWN_RENT_HOME_OWNER has 94 per cent coverage.\n",
      "A_A8606N_HM_OWNER_RENTER_RENTER has 94 per cent coverage.\n",
      "A_A8607N_HM_LNTH_RES_01_02 has 94 per cent coverage.\n",
      "A_A8607N_HM_LNTH_RES_03_05 has 94 per cent coverage.\n",
      "A_A8607N_HM_LNTH_RES_06_10 has 94 per cent coverage.\n",
      "A_A8607N_HM_LNTH_RES_11_14 has 94 per cent coverage.\n",
      "A_A8609N_MARITAL_STAT_HH_M_A has 94 per cent coverage.\n",
      "A_A8609N_MARITAL_STAT_HH_S_B has 94 per cent coverage.\n",
      "A_A8641_INC_ESTMT_HHLD_1 has 94 per cent coverage.\n",
      "A_A8641_INC_ESTMT_HHLD_2 has 94 per cent coverage.\n",
      "A_A8641_INC_ESTMT_HHLD_3 has 94 per cent coverage.\n",
      "A_A8641_INC_ESTMT_HHLD_4 has 94 per cent coverage.\n",
      "A_A8641_INC_ESTMT_HHLD_5 has 94 per cent coverage.\n",
      "A_A8641_INC_ESTMT_HHLD_6 has 94 per cent coverage.\n",
      "A_A8641_INC_ESTMT_HHLD_7 has 94 per cent coverage.\n",
      "A_A8641_INC_ESTMT_HHLD_8 has 94 per cent coverage.\n",
      "A_A8641_INC_ESTMT_HHLD_9 has 94 per cent coverage.\n",
      "A_A8642_HM_MKT_VAL_LT_75 has 94 per cent coverage.\n",
      "A_A8642_HM_MKT_VAL_75_149 has 94 per cent coverage.\n",
      "A_A8642_HM_MKT_VAL_150_299 has 94 per cent coverage.\n",
      "A_A8642_HM_MKT_VAL_300_499 has 94 per cent coverage.\n",
      "A_A8642_HM_MKT_VAL_500_999 has 94 per cent coverage.\n",
      "A_A8642_HM_MKT_VAL_1M_PLUS has 94 per cent coverage.\n",
      "A_A9153N_RPC_FURNITURE_BUYR_YES has 94 per cent coverage.\n",
      "A_A9153N_RPC_HM_IMPROVE_YES has 94 per cent coverage.\n",
      "A_A9509N_EDU_1ST_1 has 94 per cent coverage.\n",
      "A_A9509N_EDU_1ST_2 has 94 per cent coverage.\n",
      "A_A9509N_EDU_1ST_3 has 94 per cent coverage.\n",
      "A_A9509N_EDU_1ST_4 has 94 per cent coverage.\n",
      "A_A3101N_RACE_AFRAM has 94 per cent coverage.\n",
      "A_A3101N_RACE_ASIAN has 94 per cent coverage.\n",
      "A_A3101N_RACE_HISP has 94 per cent coverage.\n",
      "A_A3101N_RACE_WHITE has 94 per cent coverage.\n",
      "A_A9350N_ECONOMIC_STB_01_10 has 94 per cent coverage.\n",
      "A_AAP000447N_ASET_PRPN_DIS_INC has 94 per cent coverage.\n",
      "BBB_INSTORE_F has 70 per cent coverage.\n",
      "BBB_INSTORE_F_2Y has 82 per cent coverage.\n",
      "BBB_ONCOUPON_R_DECILE_2Y has 84 per cent coverage.\n",
      "BUYS_Q_01 has 81 per cent coverage.\n",
      "BUYS_Q_02 has 81 per cent coverage.\n",
      "BUYS_M_01 has 81 per cent coverage.\n",
      "BUYS_M_06 has 81 per cent coverage.\n",
      "BUYS_Q_04 has 81 per cent coverage.\n",
      "BUYS_Q_08 has 81 per cent coverage.\n",
      "COUPON_ANY_AMT has 97 per cent coverage.\n",
      "COUPON_Q_01 has 81 per cent coverage.\n",
      "COUPON_Q_04 has 81 per cent coverage.\n",
      "COUPON_SALES_Q_05 has 81 per cent coverage.\n",
      "COUPON_SALES_Q_08 has 81 per cent coverage.\n",
      "HARMON_SALES_L12M has 54 per cent coverage.\n",
      "NUM_PERIODS has 97 per cent coverage.\n",
      "NUM_QUARTERS has 97 per cent coverage.\n",
      "NUM_TOTAL_ITEMS has 97 per cent coverage.\n",
      "NUM_TXNS has 97 per cent coverage.\n",
      "BBBY_CLUSTER_NUMBER has 97 per cent coverage.\n",
      "PH_CFREQ90D has 98 per cent coverage.\n",
      "PH_CREDEEM365D has 98 per cent coverage.\n",
      "PH_CREDEEM90D has 98 per cent coverage.\n",
      "PH_CSTACK_90D has 98 per cent coverage.\n",
      "PH_MREDEEM182D_PERC has 98 per cent coverage.\n",
      "PH_MREDEEM730D_PERC has 98 per cent coverage.\n",
      "PH_NMFREQ182D has 98 per cent coverage.\n",
      "PH_PREDEEM365D has 98 per cent coverage.\n",
      "PH_PREDEEM548D has 98 per cent coverage.\n",
      "PH_PREDEEM730D has 98 per cent coverage.\n",
      "RECENCY has 97 per cent coverage.\n",
      "TOTAL_SALES_L12M has 54 per cent coverage.\n",
      "TOTAL_TXNS_L12M has 55 per cent coverage.\n",
      "PH_PSTACK_182D has 98 per cent coverage.\n",
      "PH_PFREQ182D has 98 per cent coverage.\n",
      "PH_PSTACK_90D has 98 per cent coverage.\n",
      "PH_PFREQ90D has 98 per cent coverage.\n",
      "PH_PSTACK_365D has 98 per cent coverage.\n",
      "PH_MSTACK_182D has 98 per cent coverage.\n",
      "PH_STACK_182D has 98 per cent coverage.\n",
      "PH_PFREQ365D has 98 per cent coverage.\n",
      "PH_MSTACK_90D has 98 per cent coverage.\n",
      "PH_MFREQ182D has 98 per cent coverage.\n",
      "PH_STACK_90D has 98 per cent coverage.\n",
      "PH_MFREQ90D has 98 per cent coverage.\n",
      "PH_FREQ182D has 98 per cent coverage.\n",
      "PH_FREQ90D has 98 per cent coverage.\n",
      "PH_DM_RECENCY has 90 per cent coverage.\n",
      "BBB_M_DECILE_2Y has 95 per cent coverage.\n",
      "BBB_M_DECILE has 90 per cent coverage.\n",
      "BBB_ONCOUPON_M_DECILE has 69 per cent coverage.\n",
      "BBB_ONCOUPON_M_DECILE_2Y has 84 per cent coverage.\n",
      "BBB_INSTORE_M_DECILE_2Y has 82 per cent coverage.\n",
      "BBB_INSTORE_M_DECILE has 70 per cent coverage.\n",
      "BBB_RFM_DECILE_2Y has 95 per cent coverage.\n",
      "BBB_OFFCOUPON_F_DECILE_2Y has 76 per cent coverage.\n",
      "BBB_RFM_DECILE has 90 per cent coverage.\n",
      "BBB_OFFCOUPON_RFM_DECILE_2Y has 76 per cent coverage.\n",
      "BBB_OFFCOUPON_M_DECILE_2Y has 76 per cent coverage.\n",
      "BBB_ONCOUPON_RFM_DECILE_2Y has 84 per cent coverage.\n",
      "BBB_ONCOUPON_RFM_DECILE has 69 per cent coverage.\n",
      "BBB_F_DECILE_2Y has 95 per cent coverage.\n",
      "BBB_INSTORE_RFM_DECILE_2Y has 82 per cent coverage.\n",
      "BBB_F_DECILE has 90 per cent coverage.\n",
      "BBB_INSTORE_RFM_DECILE has 70 per cent coverage.\n",
      "BBB_M_2Y has 95 per cent coverage.\n",
      "AVG_NET_SALES_PER_TXN has 97 per cent coverage.\n",
      "AVG_SALES_PER_TXN has 97 per cent coverage.\n",
      "NUM_DEPARTMENTS has 97 per cent coverage.\n",
      "NUM_ITEM_CATEGORIES has 97 per cent coverage.\n",
      "PCT_SALES_ON_TXN_PCT_COUPON has 97 per cent coverage.\n",
      "PCT_SALES_ON_TXN_DOL_COUPON has 97 per cent coverage.\n",
      "PCT_TXN_DOL_COUPON_DEPTH has 97 per cent coverage.\n",
      "PCT_ITEMS_ON_ITEM_PCT_COUPON has 97 per cent coverage.\n",
      "AVG_UNIQUE_ITEMS_PER_TXN has 97 per cent coverage.\n",
      "NUM_SUB_DEPARTMENT has 97 per cent coverage.\n",
      "AVG_TOTAL_ITEMS_PER_TXN has 97 per cent coverage.\n",
      "PCT_TXNS_ON_ITEM_PCT_COUPON has 97 per cent coverage.\n",
      "PCT_TXNS_ON_TXN_DOL_COUPON has 97 per cent coverage.\n",
      "PCT_ITEM_PCT_COUPON_DEPTH has 97 per cent coverage.\n",
      "PCT_SALES_ON_ITEM_PCT_COUPON has 97 per cent coverage.\n",
      "PCT_TXNS_ON_TXN_PCT_COUPON has 97 per cent coverage.\n",
      "PCT_ITEMS_ON_TXN_PCT_COUPON has 97 per cent coverage.\n",
      "PCT_TXN_PCT_COUPON_DEPTH has 97 per cent coverage.\n",
      "NUM_CHANNELS has 97 per cent coverage.\n",
      "NUM_CLASSES has 97 per cent coverage.\n",
      "NUM_MERCH_DIVISIONS has 97 per cent coverage.\n",
      "NUM_PRODUCT_GROUPS has 97 per cent coverage.\n"
     ]
    }
   ],
   "source": [
    "def display_coverage(data):\n",
    "    for col in data.columns:\n",
    "        print(col, 'has',\n",
    "                  int(round(1 - (data[col].isnull().sum() / len(data)), 2) * 100),\n",
    "                  'per cent coverage.')\n",
    "display_coverage(data)"
   ]
  },
  {
   "cell_type": "code",
   "execution_count": 3,
   "id": "c39aec19-de5e-49e5-bc6e-48e240ffd824",
   "metadata": {
    "tags": []
   },
   "outputs": [
    {
     "name": "stdout",
     "output_type": "stream",
     "text": [
      "same_day_delivery_line_indicator  Dropped: 37 % coverage\n",
      "BBB_R_2Y  Dropped: 47 % coverage\n",
      "BBB_INSTORE_F  Dropped: 38 % coverage\n",
      "BBB_INSTORE_F_2Y  Dropped: 42 % coverage\n",
      "BBB_ONCOUPON_R_DECILE_2Y  Dropped: 42 % coverage\n",
      "COUPON_ANY_AMT  Dropped: 49 % coverage\n",
      "HARMON_SALES_L12M  Dropped: 45 % coverage\n",
      "NUM_PERIODS  Dropped: 49 % coverage\n",
      "NUM_QUARTERS  Dropped: 49 % coverage\n",
      "NUM_TOTAL_ITEMS  Dropped: 49 % coverage\n",
      "NUM_TXNS  Dropped: 49 % coverage\n",
      "BBBY_CLUSTER_NUMBER  Dropped: 49 % coverage\n",
      "PH_CFREQ90D  Dropped: 51 % coverage\n",
      "PH_CREDEEM365D  Dropped: 51 % coverage\n",
      "PH_CREDEEM90D  Dropped: 51 % coverage\n",
      "PH_CSTACK_90D  Dropped: 51 % coverage\n",
      "PH_MREDEEM182D_PERC  Dropped: 51 % coverage\n",
      "PH_MREDEEM730D_PERC  Dropped: 51 % coverage\n",
      "PH_NMFREQ182D  Dropped: 51 % coverage\n",
      "PH_PREDEEM365D  Dropped: 51 % coverage\n",
      "PH_PREDEEM548D  Dropped: 51 % coverage\n",
      "PH_PREDEEM730D  Dropped: 51 % coverage\n",
      "RECENCY  Dropped: 49 % coverage\n",
      "TOTAL_SALES_L12M  Dropped: 45 % coverage\n",
      "TOTAL_TXNS_L12M  Dropped: 46 % coverage\n",
      "PH_PSTACK_182D  Dropped: 51 % coverage\n",
      "PH_PFREQ182D  Dropped: 51 % coverage\n",
      "PH_PSTACK_90D  Dropped: 51 % coverage\n",
      "PH_PFREQ90D  Dropped: 51 % coverage\n",
      "PH_PSTACK_365D  Dropped: 51 % coverage\n",
      "PH_MSTACK_182D  Dropped: 51 % coverage\n",
      "PH_STACK_182D  Dropped: 51 % coverage\n",
      "PH_PFREQ365D  Dropped: 51 % coverage\n",
      "PH_MSTACK_90D  Dropped: 51 % coverage\n",
      "PH_MFREQ182D  Dropped: 51 % coverage\n",
      "PH_STACK_90D  Dropped: 51 % coverage\n",
      "PH_MFREQ90D  Dropped: 51 % coverage\n",
      "PH_FREQ182D  Dropped: 51 % coverage\n",
      "PH_FREQ90D  Dropped: 51 % coverage\n",
      "PH_DM_RECENCY  Dropped: 46 % coverage\n",
      "BBB_M_DECILE_2Y  Dropped: 47 % coverage\n",
      "BBB_M_DECILE  Dropped: 46 % coverage\n",
      "BBB_ONCOUPON_M_DECILE  Dropped: 39 % coverage\n",
      "BBB_ONCOUPON_M_DECILE_2Y  Dropped: 42 % coverage\n",
      "BBB_INSTORE_M_DECILE_2Y  Dropped: 42 % coverage\n",
      "BBB_INSTORE_M_DECILE  Dropped: 38 % coverage\n",
      "BBB_RFM_DECILE_2Y  Dropped: 47 % coverage\n",
      "BBB_OFFCOUPON_F_DECILE_2Y  Dropped: 37 % coverage\n",
      "BBB_RFM_DECILE  Dropped: 46 % coverage\n",
      "BBB_OFFCOUPON_RFM_DECILE_2Y  Dropped: 37 % coverage\n",
      "BBB_OFFCOUPON_M_DECILE_2Y  Dropped: 37 % coverage\n",
      "BBB_ONCOUPON_RFM_DECILE_2Y  Dropped: 42 % coverage\n",
      "BBB_ONCOUPON_RFM_DECILE  Dropped: 39 % coverage\n",
      "BBB_F_DECILE_2Y  Dropped: 47 % coverage\n",
      "BBB_INSTORE_RFM_DECILE_2Y  Dropped: 42 % coverage\n",
      "BBB_F_DECILE  Dropped: 46 % coverage\n",
      "BBB_INSTORE_RFM_DECILE  Dropped: 38 % coverage\n",
      "BBB_M_2Y  Dropped: 47 % coverage\n",
      "AVG_NET_SALES_PER_TXN  Dropped: 49 % coverage\n",
      "AVG_SALES_PER_TXN  Dropped: 49 % coverage\n",
      "NUM_DEPARTMENTS  Dropped: 49 % coverage\n",
      "NUM_ITEM_CATEGORIES  Dropped: 49 % coverage\n",
      "PCT_SALES_ON_TXN_PCT_COUPON  Dropped: 49 % coverage\n",
      "PCT_SALES_ON_TXN_DOL_COUPON  Dropped: 49 % coverage\n",
      "PCT_TXN_DOL_COUPON_DEPTH  Dropped: 49 % coverage\n",
      "PCT_ITEMS_ON_ITEM_PCT_COUPON  Dropped: 49 % coverage\n",
      "AVG_UNIQUE_ITEMS_PER_TXN  Dropped: 49 % coverage\n",
      "NUM_SUB_DEPARTMENT  Dropped: 49 % coverage\n",
      "AVG_TOTAL_ITEMS_PER_TXN  Dropped: 49 % coverage\n",
      "PCT_TXNS_ON_ITEM_PCT_COUPON  Dropped: 49 % coverage\n",
      "PCT_TXNS_ON_TXN_DOL_COUPON  Dropped: 49 % coverage\n",
      "PCT_ITEM_PCT_COUPON_DEPTH  Dropped: 49 % coverage\n",
      "PCT_SALES_ON_ITEM_PCT_COUPON  Dropped: 49 % coverage\n",
      "PCT_TXNS_ON_TXN_PCT_COUPON  Dropped: 49 % coverage\n",
      "PCT_ITEMS_ON_TXN_PCT_COUPON  Dropped: 49 % coverage\n",
      "PCT_TXN_PCT_COUPON_DEPTH  Dropped: 49 % coverage\n",
      "NUM_CHANNELS  Dropped: 49 % coverage\n",
      "NUM_CLASSES  Dropped: 49 % coverage\n",
      "NUM_MERCH_DIVISIONS  Dropped: 49 % coverage\n",
      "NUM_PRODUCT_GROUPS  Dropped: 49 % coverage\n"
     ]
    }
   ],
   "source": [
    "def discard_low_coverage(data):\n",
    "    for col in data.columns:\n",
    "        if int(round(1 - (data[col].isnull().sum() / len(data)), 2) * 100) < 60:\n",
    "            print(col, ' Dropped:',\n",
    "                  int(round(1 - (data[col].isnull().sum() / len(data)), 2) * 100),\n",
    "                  '% coverage')\n",
    "            data=data.drop(col, axis=1)\n",
    "        else:\n",
    "            continue\n",
    "    return data\n",
    "data=discard_low_coverage(data)"
   ]
  },
  {
   "cell_type": "code",
   "execution_count": 4,
   "id": "8e97752d-0dce-4b8b-b1dc-8c837251c177",
   "metadata": {},
   "outputs": [],
   "source": [
    "data=data.drop('pre_coupon_flag', axis=1)"
   ]
  },
  {
   "cell_type": "code",
   "execution_count": 5,
   "id": "8d37eca0-741a-4811-abc5-005d52e6ece2",
   "metadata": {},
   "outputs": [],
   "source": [
    "data=data.drop('pre_src_order', axis=1)"
   ]
  },
  {
   "cell_type": "code",
   "execution_count": 6,
   "id": "8db4e6ac-2fc9-4193-84a9-f2692bc57b5f",
   "metadata": {},
   "outputs": [
    {
     "ename": "KeyError",
     "evalue": "\"['pre_src_order'] not found in axis\"",
     "output_type": "error",
     "traceback": [
      "\u001b[0;31m---------------------------------------------------------------------------\u001b[0m",
      "\u001b[0;31mKeyError\u001b[0m                                  Traceback (most recent call last)",
      "Input \u001b[0;32mIn [6]\u001b[0m, in \u001b[0;36m<cell line: 1>\u001b[0;34m()\u001b[0m\n\u001b[0;32m----> 1\u001b[0m data\u001b[38;5;241m=\u001b[39m\u001b[43mdata\u001b[49m\u001b[38;5;241;43m.\u001b[39;49m\u001b[43mdrop\u001b[49m\u001b[43m(\u001b[49m\u001b[38;5;124;43m'\u001b[39;49m\u001b[38;5;124;43mpre_src_order\u001b[39;49m\u001b[38;5;124;43m'\u001b[39;49m\u001b[43m,\u001b[49m\u001b[43m \u001b[49m\u001b[43maxis\u001b[49m\u001b[38;5;241;43m=\u001b[39;49m\u001b[38;5;241;43m1\u001b[39;49m\u001b[43m)\u001b[49m\n",
      "File \u001b[0;32m/opt/conda/envs/lapsed/lib/python3.10/site-packages/pandas/util/_decorators.py:311\u001b[0m, in \u001b[0;36mdeprecate_nonkeyword_arguments.<locals>.decorate.<locals>.wrapper\u001b[0;34m(*args, **kwargs)\u001b[0m\n\u001b[1;32m    305\u001b[0m \u001b[38;5;28;01mif\u001b[39;00m \u001b[38;5;28mlen\u001b[39m(args) \u001b[38;5;241m>\u001b[39m num_allow_args:\n\u001b[1;32m    306\u001b[0m     warnings\u001b[38;5;241m.\u001b[39mwarn(\n\u001b[1;32m    307\u001b[0m         msg\u001b[38;5;241m.\u001b[39mformat(arguments\u001b[38;5;241m=\u001b[39marguments),\n\u001b[1;32m    308\u001b[0m         \u001b[38;5;167;01mFutureWarning\u001b[39;00m,\n\u001b[1;32m    309\u001b[0m         stacklevel\u001b[38;5;241m=\u001b[39mstacklevel,\n\u001b[1;32m    310\u001b[0m     )\n\u001b[0;32m--> 311\u001b[0m \u001b[38;5;28;01mreturn\u001b[39;00m \u001b[43mfunc\u001b[49m\u001b[43m(\u001b[49m\u001b[38;5;241;43m*\u001b[39;49m\u001b[43margs\u001b[49m\u001b[43m,\u001b[49m\u001b[43m \u001b[49m\u001b[38;5;241;43m*\u001b[39;49m\u001b[38;5;241;43m*\u001b[39;49m\u001b[43mkwargs\u001b[49m\u001b[43m)\u001b[49m\n",
      "File \u001b[0;32m/opt/conda/envs/lapsed/lib/python3.10/site-packages/pandas/core/frame.py:4954\u001b[0m, in \u001b[0;36mDataFrame.drop\u001b[0;34m(self, labels, axis, index, columns, level, inplace, errors)\u001b[0m\n\u001b[1;32m   4806\u001b[0m \u001b[38;5;129m@deprecate_nonkeyword_arguments\u001b[39m(version\u001b[38;5;241m=\u001b[39m\u001b[38;5;28;01mNone\u001b[39;00m, allowed_args\u001b[38;5;241m=\u001b[39m[\u001b[38;5;124m\"\u001b[39m\u001b[38;5;124mself\u001b[39m\u001b[38;5;124m\"\u001b[39m, \u001b[38;5;124m\"\u001b[39m\u001b[38;5;124mlabels\u001b[39m\u001b[38;5;124m\"\u001b[39m])\n\u001b[1;32m   4807\u001b[0m \u001b[38;5;28;01mdef\u001b[39;00m \u001b[38;5;21mdrop\u001b[39m(\n\u001b[1;32m   4808\u001b[0m     \u001b[38;5;28mself\u001b[39m,\n\u001b[0;32m   (...)\u001b[0m\n\u001b[1;32m   4815\u001b[0m     errors: \u001b[38;5;28mstr\u001b[39m \u001b[38;5;241m=\u001b[39m \u001b[38;5;124m\"\u001b[39m\u001b[38;5;124mraise\u001b[39m\u001b[38;5;124m\"\u001b[39m,\n\u001b[1;32m   4816\u001b[0m ):\n\u001b[1;32m   4817\u001b[0m     \u001b[38;5;124;03m\"\"\"\u001b[39;00m\n\u001b[1;32m   4818\u001b[0m \u001b[38;5;124;03m    Drop specified labels from rows or columns.\u001b[39;00m\n\u001b[1;32m   4819\u001b[0m \n\u001b[0;32m   (...)\u001b[0m\n\u001b[1;32m   4952\u001b[0m \u001b[38;5;124;03m            weight  1.0     0.8\u001b[39;00m\n\u001b[1;32m   4953\u001b[0m \u001b[38;5;124;03m    \"\"\"\u001b[39;00m\n\u001b[0;32m-> 4954\u001b[0m     \u001b[38;5;28;01mreturn\u001b[39;00m \u001b[38;5;28;43msuper\u001b[39;49m\u001b[43m(\u001b[49m\u001b[43m)\u001b[49m\u001b[38;5;241;43m.\u001b[39;49m\u001b[43mdrop\u001b[49m\u001b[43m(\u001b[49m\n\u001b[1;32m   4955\u001b[0m \u001b[43m        \u001b[49m\u001b[43mlabels\u001b[49m\u001b[38;5;241;43m=\u001b[39;49m\u001b[43mlabels\u001b[49m\u001b[43m,\u001b[49m\n\u001b[1;32m   4956\u001b[0m \u001b[43m        \u001b[49m\u001b[43maxis\u001b[49m\u001b[38;5;241;43m=\u001b[39;49m\u001b[43maxis\u001b[49m\u001b[43m,\u001b[49m\n\u001b[1;32m   4957\u001b[0m \u001b[43m        \u001b[49m\u001b[43mindex\u001b[49m\u001b[38;5;241;43m=\u001b[39;49m\u001b[43mindex\u001b[49m\u001b[43m,\u001b[49m\n\u001b[1;32m   4958\u001b[0m \u001b[43m        \u001b[49m\u001b[43mcolumns\u001b[49m\u001b[38;5;241;43m=\u001b[39;49m\u001b[43mcolumns\u001b[49m\u001b[43m,\u001b[49m\n\u001b[1;32m   4959\u001b[0m \u001b[43m        \u001b[49m\u001b[43mlevel\u001b[49m\u001b[38;5;241;43m=\u001b[39;49m\u001b[43mlevel\u001b[49m\u001b[43m,\u001b[49m\n\u001b[1;32m   4960\u001b[0m \u001b[43m        \u001b[49m\u001b[43minplace\u001b[49m\u001b[38;5;241;43m=\u001b[39;49m\u001b[43minplace\u001b[49m\u001b[43m,\u001b[49m\n\u001b[1;32m   4961\u001b[0m \u001b[43m        \u001b[49m\u001b[43merrors\u001b[49m\u001b[38;5;241;43m=\u001b[39;49m\u001b[43merrors\u001b[49m\u001b[43m,\u001b[49m\n\u001b[1;32m   4962\u001b[0m \u001b[43m    \u001b[49m\u001b[43m)\u001b[49m\n",
      "File \u001b[0;32m/opt/conda/envs/lapsed/lib/python3.10/site-packages/pandas/core/generic.py:4267\u001b[0m, in \u001b[0;36mNDFrame.drop\u001b[0;34m(self, labels, axis, index, columns, level, inplace, errors)\u001b[0m\n\u001b[1;32m   4265\u001b[0m \u001b[38;5;28;01mfor\u001b[39;00m axis, labels \u001b[38;5;129;01min\u001b[39;00m axes\u001b[38;5;241m.\u001b[39mitems():\n\u001b[1;32m   4266\u001b[0m     \u001b[38;5;28;01mif\u001b[39;00m labels \u001b[38;5;129;01mis\u001b[39;00m \u001b[38;5;129;01mnot\u001b[39;00m \u001b[38;5;28;01mNone\u001b[39;00m:\n\u001b[0;32m-> 4267\u001b[0m         obj \u001b[38;5;241m=\u001b[39m \u001b[43mobj\u001b[49m\u001b[38;5;241;43m.\u001b[39;49m\u001b[43m_drop_axis\u001b[49m\u001b[43m(\u001b[49m\u001b[43mlabels\u001b[49m\u001b[43m,\u001b[49m\u001b[43m \u001b[49m\u001b[43maxis\u001b[49m\u001b[43m,\u001b[49m\u001b[43m \u001b[49m\u001b[43mlevel\u001b[49m\u001b[38;5;241;43m=\u001b[39;49m\u001b[43mlevel\u001b[49m\u001b[43m,\u001b[49m\u001b[43m \u001b[49m\u001b[43merrors\u001b[49m\u001b[38;5;241;43m=\u001b[39;49m\u001b[43merrors\u001b[49m\u001b[43m)\u001b[49m\n\u001b[1;32m   4269\u001b[0m \u001b[38;5;28;01mif\u001b[39;00m inplace:\n\u001b[1;32m   4270\u001b[0m     \u001b[38;5;28mself\u001b[39m\u001b[38;5;241m.\u001b[39m_update_inplace(obj)\n",
      "File \u001b[0;32m/opt/conda/envs/lapsed/lib/python3.10/site-packages/pandas/core/generic.py:4311\u001b[0m, in \u001b[0;36mNDFrame._drop_axis\u001b[0;34m(self, labels, axis, level, errors, consolidate, only_slice)\u001b[0m\n\u001b[1;32m   4309\u001b[0m         new_axis \u001b[38;5;241m=\u001b[39m axis\u001b[38;5;241m.\u001b[39mdrop(labels, level\u001b[38;5;241m=\u001b[39mlevel, errors\u001b[38;5;241m=\u001b[39merrors)\n\u001b[1;32m   4310\u001b[0m     \u001b[38;5;28;01melse\u001b[39;00m:\n\u001b[0;32m-> 4311\u001b[0m         new_axis \u001b[38;5;241m=\u001b[39m \u001b[43maxis\u001b[49m\u001b[38;5;241;43m.\u001b[39;49m\u001b[43mdrop\u001b[49m\u001b[43m(\u001b[49m\u001b[43mlabels\u001b[49m\u001b[43m,\u001b[49m\u001b[43m \u001b[49m\u001b[43merrors\u001b[49m\u001b[38;5;241;43m=\u001b[39;49m\u001b[43merrors\u001b[49m\u001b[43m)\u001b[49m\n\u001b[1;32m   4312\u001b[0m     indexer \u001b[38;5;241m=\u001b[39m axis\u001b[38;5;241m.\u001b[39mget_indexer(new_axis)\n\u001b[1;32m   4314\u001b[0m \u001b[38;5;66;03m# Case for non-unique axis\u001b[39;00m\n\u001b[1;32m   4315\u001b[0m \u001b[38;5;28;01melse\u001b[39;00m:\n",
      "File \u001b[0;32m/opt/conda/envs/lapsed/lib/python3.10/site-packages/pandas/core/indexes/base.py:6644\u001b[0m, in \u001b[0;36mIndex.drop\u001b[0;34m(self, labels, errors)\u001b[0m\n\u001b[1;32m   6642\u001b[0m \u001b[38;5;28;01mif\u001b[39;00m mask\u001b[38;5;241m.\u001b[39many():\n\u001b[1;32m   6643\u001b[0m     \u001b[38;5;28;01mif\u001b[39;00m errors \u001b[38;5;241m!=\u001b[39m \u001b[38;5;124m\"\u001b[39m\u001b[38;5;124mignore\u001b[39m\u001b[38;5;124m\"\u001b[39m:\n\u001b[0;32m-> 6644\u001b[0m         \u001b[38;5;28;01mraise\u001b[39;00m \u001b[38;5;167;01mKeyError\u001b[39;00m(\u001b[38;5;124mf\u001b[39m\u001b[38;5;124m\"\u001b[39m\u001b[38;5;132;01m{\u001b[39;00m\u001b[38;5;28mlist\u001b[39m(labels[mask])\u001b[38;5;132;01m}\u001b[39;00m\u001b[38;5;124m not found in axis\u001b[39m\u001b[38;5;124m\"\u001b[39m)\n\u001b[1;32m   6645\u001b[0m     indexer \u001b[38;5;241m=\u001b[39m indexer[\u001b[38;5;241m~\u001b[39mmask]\n\u001b[1;32m   6646\u001b[0m \u001b[38;5;28;01mreturn\u001b[39;00m \u001b[38;5;28mself\u001b[39m\u001b[38;5;241m.\u001b[39mdelete(indexer)\n",
      "\u001b[0;31mKeyError\u001b[0m: \"['pre_src_order'] not found in axis\""
     ]
    }
   ],
   "source": [
    "data=data.drop('pre_src_order', axis=1)"
   ]
  },
  {
   "cell_type": "markdown",
   "id": "7d6d61e8-c478-47ea-bd96-50a81bd530e8",
   "metadata": {},
   "source": [
    "## Recasting Variables"
   ]
  },
  {
   "cell_type": "markdown",
   "id": "6c364dc2-a9b2-427b-97e3-4168f4674144",
   "metadata": {},
   "source": [
    "1. Object: Used for text or alpha-numeric values.\n",
    "2. Int64: Used for Integer numbers.\n",
    "3. Float64: Used for floating-point numbers.\n",
    "4. Bool: Used for True/False values.\n",
    "5. Datetime64: Used for date and time values.\n",
    "6. Timedelta[ns]: Used for differences between two datetimes.\n",
    "7. Category: Used for a list of text values."
   ]
  },
  {
   "cell_type": "code",
   "execution_count": null,
   "id": "4df52ac1-ca45-443c-a024-09da549c7b02",
   "metadata": {},
   "outputs": [],
   "source": [
    "for col in X_new.columns:\n",
    "    if 'BBB_'  in col:\n",
    "        X_new[col]=X_new[col].astype('Float64')\n",
    "    elif 'PCT_' in col:\n",
    "        X_new[col]=X_new[col].astype('Float64')\n",
    "    elif 'COUPON_' in col:\n",
    "        X_new[col]=X_new[col].astype('Float64')\n",
    "    elif 'A_' in col:\n",
    "        X_new[col]=X_new[col].astype('Float64')\n",
    "   \n",
    "    "
   ]
  },
  {
   "cell_type": "markdown",
   "id": "477b4252-af4d-48ec-8342-72e54320b05d",
   "metadata": {},
   "source": [
    "## Null Imputation Options"
   ]
  },
  {
   "cell_type": "markdown",
   "id": "23306bca-eda0-41f5-9efd-cdab3522cc09",
   "metadata": {},
   "source": [
    "1. .mean()\n",
    "2. .median()\n",
    "3. .std()\n",
    "4. .min()\n",
    "5. .max()"
   ]
  },
  {
   "cell_type": "code",
   "execution_count": null,
   "id": "1be7bc9c-0fa0-4d38-80b0-c44bbf1e79a1",
   "metadata": {
    "tags": []
   },
   "outputs": [],
   "source": [
    "for col in data.columns:\n",
    "    if 'BUYS'  in col:\n",
    "        data[col].fillna(0, inplace=True)\n",
    "    elif 'COUPON' in col:\n",
    "        data[col].fillna(0, inplace=True)\n",
    "    elif 'INCOME' in col:\n",
    "        data[col].fillna(data[col].mode(), inplace=True)\n",
    "    elif 'A_' in col:\n",
    "        data[col].fillna(0, inplace=True)\n",
    "    elif 'gender' in col:\n",
    "        data[col].fillna('UNKNOWN', inplace=True)\n",
    "    "
   ]
  },
  {
   "cell_type": "markdown",
   "id": "a9f8b85a-524d-4fd0-a31f-722d5c375a76",
   "metadata": {},
   "source": [
    "## Categorical variables"
   ]
  },
  {
   "cell_type": "code",
   "execution_count": null,
   "id": "b224fc71-9dfd-4f95-a240-95ec5d62ba02",
   "metadata": {},
   "outputs": [],
   "source": [
    "cat_cols = [c for c in data.columns if data[c].dtypes=='O']\n",
    "data[cat_cols].head()"
   ]
  },
  {
   "cell_type": "code",
   "execution_count": null,
   "id": "f786b58a-4e6b-40a6-9c16-59ba238246d9",
   "metadata": {},
   "outputs": [],
   "source": [
    "for x in cat_cols:\n",
    "    #printing unique values\n",
    "    print(x ,':', data[x].value_counts().sort_values(ascending=False).head(20))"
   ]
  },
  {
   "cell_type": "markdown",
   "id": "cf648e03-7712-4ff9-9b36-4725e1f0e0c5",
   "metadata": {},
   "source": [
    "## Continuos Variables"
   ]
  },
  {
   "cell_type": "code",
   "execution_count": null,
   "id": "569a88ea-603f-4622-bdf8-b13baf73a6ad",
   "metadata": {},
   "outputs": [],
   "source": [
    "num_cols = [c for c in data.columns if data[c].dtypes!='O']\n",
    "data[num_cols].head()"
   ]
  },
  {
   "cell_type": "markdown",
   "id": "fd351924-1c78-405c-8371-c36578e3818d",
   "metadata": {},
   "source": [
    "## Graphical insight"
   ]
  },
  {
   "cell_type": "code",
   "execution_count": null,
   "id": "11fed15b-aecb-4e26-a7fa-ede0072c7721",
   "metadata": {},
   "outputs": [],
   "source": [
    "def graph_insight(data):\n",
    "    print(set(data.dtypes.tolist()))\n",
    "    df_num = data.select_dtypes(include = ['float64', 'int64','object'])\n",
    "    df_num.hist(figsize=(16, 16), bins=50, xlabelsize=8, ylabelsize=8);"
   ]
  },
  {
   "cell_type": "code",
   "execution_count": null,
   "id": "cd001ed5-9957-45ba-92e4-52e2e36fe412",
   "metadata": {},
   "outputs": [],
   "source": [
    "graph_insight(data)"
   ]
  },
  {
   "cell_type": "markdown",
   "id": "76fcdf06-cbce-40bb-beaf-623e7affc4c8",
   "metadata": {},
   "source": [
    "## Drop Duplicates"
   ]
  },
  {
   "cell_type": "code",
   "execution_count": null,
   "id": "12b670c6-b403-4735-aa6e-e42eaa122b52",
   "metadata": {},
   "outputs": [],
   "source": [
    "def drop_duplicate(data, subset):\n",
    "    print('Before drop shape:', data.shape)\n",
    "    before = data.shape[0]\n",
    "    data.drop_duplicates(subset,keep='first', inplace=True) #subset is list where you have to put all column for duplicate check\n",
    "    data.reset_index(drop=True, inplace=True)\n",
    "    print('After drop shape:', data.shape)\n",
    "    after = data.shape[0]\n",
    "    print('Total Duplicate:', before-after)"
   ]
  },
  {
   "cell_type": "markdown",
   "id": "91ce4868-89a2-4ed7-a462-1412a827af4e",
   "metadata": {},
   "source": [
    "## Column Values Manipulation"
   ]
  },
  {
   "cell_type": "code",
   "execution_count": null,
   "id": "73802f04-7e1d-4c9c-b2fe-d154c7750092",
   "metadata": {
    "tags": []
   },
   "outputs": [],
   "source": [
    "# create a list of our conditions\n",
    "conditions = [\n",
    "    (data['pre_src_order'] == 'U'),\n",
    "    (data['pre_src_order'] != 'U')\n",
    "    ]\n",
    "\n",
    "# create a list of the values we want to assign for each condition\n",
    "values = ['Instore', 'Online']\n",
    "\n",
    "# create a new column and use np.select to assign values to it using our lists as arguments\n",
    "data['Pre_Buying_Channel'] = np.select(conditions, values)\n",
    "\n",
    "# display updated DataFrame\n",
    "data.head()"
   ]
  },
  {
   "cell_type": "code",
   "execution_count": null,
   "id": "43ad9024-f67d-4731-9970-f777bec850fd",
   "metadata": {
    "tags": []
   },
   "outputs": [],
   "source": [
    "# create a list of our conditions\n",
    "conditions = [\n",
    "    (data['gender'] == ''),\n",
    "    (data['gender'] == 'M'),\n",
    "    (data['gender'] == 'F'),\n",
    "    (data['gender'] == 'UNKNOWN')\n",
    "    ]\n",
    "\n",
    "# create a list of the values we want to assign for each condition\n",
    "values = ['UNKNOWN', 'M','F','UNKNOWN']\n",
    "\n",
    "# create a new column and use np.select to assign values to it using our lists as arguments\n",
    "data['gender'] = np.select(conditions, values)\n",
    "\n",
    "# display updated DataFrame\n",
    "data.head()\n",
    "data=data.drop('pre_src_order', axis=1)"
   ]
  },
  {
   "cell_type": "markdown",
   "id": "a62705cf-f65c-4345-9b31-5fd50cd28d8e",
   "metadata": {},
   "source": [
    "## One Hot Encoding for Categorical Variables (Dependent and Indepenedent)"
   ]
  },
  {
   "cell_type": "code",
   "execution_count": null,
   "id": "28aafc7c-3061-407f-97c9-5ef750057e14",
   "metadata": {},
   "outputs": [],
   "source": [
    "#importing libraries\n",
    "from sklearn.preprocessing import OneHotEncoder\n",
    "# put categorical variables in a list \n",
    "categorical_vars = ['State_Division','gender','age_bucket', \n",
    "                       'INCOME','ethnicity']\n",
    "\n",
    "# instantiate the one hot encoder\n",
    "one_hot_encoder = OneHotEncoder(sparse=False, drop = \"first\")\n",
    "# Converting type of columns to category\n",
    "data['State_Division']=data['State_Division'].astype('category')\n",
    "data['gender']=data['gender'].astype('category')\n",
    "data['age_bucket']=data['age_bucket'].astype('category')\n",
    "data['INCOME']=data['INCOME'].astype('category')\n",
    "data['Pre_Buying_Channel']=data['Pre_Buying_Channel'].astype('category')\n",
    "data['ethnicity']=data['ethnicity'].astype('category')\n",
    "# apply the one hot encoder logic \n",
    "encoder_vars_array = one_hot_encoder.fit_transform(data[categorical_vars])\n",
    "\n",
    "# create object for the feature names using the categorical variables\n",
    "encoder_feature_names = one_hot_encoder.get_feature_names(categorical_vars)\n",
    "\n",
    "# create a dataframe to hold the one hot encoded variables\n",
    "encoder_vars_df = pd.DataFrame(encoder_vars_array, columns = encoder_feature_names)\n",
    "\n",
    "# concatenate the new dataframe back to the original input variables dataframe\n",
    "X_new = pd.concat([data.reset_index(drop=True), encoder_vars_df.reset_index(drop=True)], axis = 1)\n",
    "\n",
    "# drop the original input 2 and input 3 as it is not needed anymore\n",
    "X_new.drop(categorical_vars, axis = 1, inplace = True)\n",
    "\n",
    "#create a mapping from labels to a unique integer and vice versa for labelling and prediction later\n",
    "labels = X_new['reactivation_channel'].unique()\n",
    "i = 0\n",
    "idx2class = {} \n",
    "class2idx = {}\n",
    "for tp in labels:\n",
    "    idx2class[i] = tp\n",
    "    class2idx[tp] = i\n",
    "    i += 1\n",
    "idx2class\n",
    "X_new['label'] = X_new['reactivation_channel'].replace(class2idx)"
   ]
  },
  {
   "cell_type": "code",
   "execution_count": 324,
   "id": "00382915-d799-474a-b4b7-b31c44a99e04",
   "metadata": {},
   "outputs": [
    {
     "data": {
      "text/plain": [
       "{0: 'UNKNOWN', 1: 'Others', 2: 'DM', 3: 'Email', 4: 'Social', 5: 'SMS'}"
      ]
     },
     "execution_count": 324,
     "metadata": {},
     "output_type": "execute_result"
    }
   ],
   "source": [
    "idx2class"
   ]
  },
  {
   "cell_type": "markdown",
   "id": "53259a7e-645c-4799-b205-f0750ca95cf6",
   "metadata": {},
   "source": [
    "## Split the Data in Train/Validation/Test"
   ]
  },
  {
   "cell_type": "code",
   "execution_count": null,
   "id": "9735f33e-6d6f-42dd-be99-497f37f2734b",
   "metadata": {},
   "outputs": [],
   "source": [
    "from sklearn.model_selection import train_test_split\n",
    "from sklearn.preprocessing import StandardScaler\n",
    "# Let's say we want to split the data in 80:10:10 for train:valid:test dataset\n",
    "train_size=0.65\n",
    "\n",
    "X = pd.DataFrame(X_new.drop(columns = ['label','customer_id','reactivation_channel']).copy())\n",
    "y = X_new['label']\n",
    "\n",
    "\n",
    "# In the first step we will split the data in training and remaining dataset\n",
    "X_train, X_rem, y_train, y_rem = train_test_split(X,y, train_size=0.65,stratify=y, random_state=1121218)\n",
    "scaler = StandardScaler()\n",
    "X_train = scaler.fit_transform(X_train)\n",
    "\n",
    "# Now since we want the valid and test size to be equal (10% each of overall data). \n",
    "# we have to define valid_size=0.5 (that is 50% of remaining data)\n",
    "test_size = 0.5\n",
    "X_valid, X_test, y_valid, y_test = train_test_split(X_rem,y_rem, test_size=0.5,stratify=y_rem, random_state=1121218)\n",
    "X_test = scaler.transform(X_test)\n",
    "X_valid = scaler.transform(X_valid)\n",
    "print(X_train.shape), print(y_train.shape)\n",
    "print(X_valid.shape), print(y_valid.shape)\n",
    "print(X_test.shape), print(y_test.shape)"
   ]
  },
  {
   "cell_type": "code",
   "execution_count": null,
   "id": "4cf90433-3c8f-48a5-aac6-d151c18cf7a0",
   "metadata": {},
   "outputs": [],
   "source": [
    "from collections import Counter\n",
    "y_distro = dict(Counter(y))\n",
    "y_train_distro = dict(Counter(y_train))\n",
    "y_valid_distro = dict(Counter(y_valid))\n",
    "y_test_distro = dict(Counter(y_test))"
   ]
  },
  {
   "cell_type": "code",
   "execution_count": 434,
   "id": "cc8161a0-1b9a-4515-9ca2-79db6cc46e74",
   "metadata": {},
   "outputs": [
    {
     "data": {
      "text/plain": [
       "{0: 3571928, 1: 1361075, 2: 2675828, 3: 324676, 4: 34190, 5: 6574}"
      ]
     },
     "execution_count": 434,
     "metadata": {},
     "output_type": "execute_result"
    }
   ],
   "source": [
    "y_distro"
   ]
  },
  {
   "cell_type": "code",
   "execution_count": 435,
   "id": "581c770c-485b-4856-8141-cc832a042dee",
   "metadata": {},
   "outputs": [
    {
     "data": {
      "text/plain": [
       "{0: 625087, 2: 468270, 1: 238188, 3: 56818, 4: 5983, 5: 1151}"
      ]
     },
     "execution_count": 435,
     "metadata": {},
     "output_type": "execute_result"
    }
   ],
   "source": [
    "y_valid_distro"
   ]
  },
  {
   "cell_type": "code",
   "execution_count": 436,
   "id": "20cad717-e1d5-4de3-ba1f-e7505d1e2eed",
   "metadata": {},
   "outputs": [
    {
     "data": {
      "text/plain": [
       "{0: 625088, 2: 468270, 3: 56819, 1: 238188, 4: 5983, 5: 1150}"
      ]
     },
     "execution_count": 436,
     "metadata": {},
     "output_type": "execute_result"
    }
   ],
   "source": [
    "y_test_distro"
   ]
  },
  {
   "cell_type": "code",
   "execution_count": 437,
   "id": "e939cf4f-3f87-4a14-88ee-ef612a57e7ad",
   "metadata": {},
   "outputs": [
    {
     "data": {
      "text/plain": [
       "{1: 884699, 2: 1739288, 0: 2321753, 3: 211039, 4: 22224, 5: 4273}"
      ]
     },
     "execution_count": 437,
     "metadata": {},
     "output_type": "execute_result"
    }
   ],
   "source": [
    "y_train_distro"
   ]
  },
  {
   "cell_type": "markdown",
   "id": "b3564184-ee08-4155-a716-0800b002c0f6",
   "metadata": {},
   "source": [
    "## Balanced Sample Weights for Training Data\n",
    "### Used as Parameter with Fit"
   ]
  },
  {
   "cell_type": "code",
   "execution_count": 438,
   "id": "3fc6735b-1cdf-4728-8fe3-3242ac31b524",
   "metadata": {},
   "outputs": [],
   "source": [
    "def CreateBalancedSampleWeights(y_train, largest_class_weight_coef):\n",
    "    classes = np.unique(y_train, axis = 0)\n",
    "    classes.sort()\n",
    "    class_samples = np.bincount(y_train)\n",
    "    total_samples = class_samples.sum()\n",
    "    n_classes = len(class_samples)\n",
    "    weights = total_samples / (n_classes * class_samples * 1.0)\n",
    "    class_weight_dict = {key : value for (key, value) in zip(classes, weights)}\n",
    "    class_weight_dict[classes[1]] = class_weight_dict[classes[1]] * largest_class_weight_coef\n",
    "    sample_weights = [class_weight_dict[y] for y in y_train]\n",
    "    return sample_weights"
   ]
  },
  {
   "cell_type": "code",
   "execution_count": 439,
   "id": "c2011758-2450-4c5c-abc6-9860b2fac7a5",
   "metadata": {},
   "outputs": [],
   "source": [
    "largest_class_weight_coef =  max(y.value_counts().values)/y.shape[0]    \n",
    "#pass y_train as numpy array\n",
    "weights = CreateBalancedSampleWeights(y_train, largest_class_weight_coef)"
   ]
  },
  {
   "cell_type": "markdown",
   "id": "bb3dad09-1e21-4dea-aad4-f96b6b2689a0",
   "metadata": {},
   "source": [
    "## Balanced Class Weight\n",
    "### Used as Paramater while initializing the estimator"
   ]
  },
  {
   "cell_type": "code",
   "execution_count": 381,
   "id": "40d4737d-d435-4dc1-b044-c0c22ada5b1d",
   "metadata": {},
   "outputs": [
    {
     "data": {
      "text/plain": [
       "{0: 0.37208061491347716,\n",
       " 1: 0.9764672532128403,\n",
       " 2: 0.49668557420980225,\n",
       " 3: 4.093450598956087,\n",
       " 4: 38.87233596568198,\n",
       " 5: 202.1668948382517}"
      ]
     },
     "execution_count": 381,
     "metadata": {},
     "output_type": "execute_result"
    }
   ],
   "source": [
    "from sklearn.utils import compute_class_weight\n",
    "\n",
    "class_weights = compute_class_weight(\n",
    "                                        class_weight = \"balanced\",\n",
    "                                        classes = np.unique(y),\n",
    "                                        y = y                                                    \n",
    "                                    )\n",
    "class_weights = dict(zip(np.unique(y), class_weights))\n",
    "class_weights"
   ]
  },
  {
   "cell_type": "markdown",
   "id": "405ca5cf-74b1-4350-a79d-2c2159991ee6",
   "metadata": {},
   "source": [
    "## Feature Selection with XG-Boost"
   ]
  },
  {
   "cell_type": "code",
   "execution_count": null,
   "id": "69a074a0-112f-41cc-b605-eb581ed02181",
   "metadata": {},
   "outputs": [],
   "source": [
    "xg = xgb.XGBClassifier()\n",
    "xg.fit(X_train, y_train, sample_weight=weights)"
   ]
  },
  {
   "cell_type": "code",
   "execution_count": 372,
   "id": "1fce4874-4351-49fd-a92c-537273a36892",
   "metadata": {},
   "outputs": [
    {
     "data": {
      "text/plain": [
       "<BarContainer object of 30 artists>"
      ]
     },
     "execution_count": 372,
     "metadata": {},
     "output_type": "execute_result"
    },
    {
     "data": {
      "image/png": "[encoded data removed]",
      "text/plain": [
       "<Figure size 432x288 with 1 Axes>"
      ]
     },
     "metadata": {
      "needs_background": "light"
     },
     "output_type": "display_data"
    }
   ],
   "source": [
    "sorted_idx=xg.feature_importances_.argsort()[::-1][:30]\n",
    "plt.barh(X11.columns[sorted_idx], xg.feature_importances_[sorted_idx])"
   ]
  },
  {
   "cell_type": "code",
   "execution_count": 383,
   "id": "c68bd514-c41d-4bc3-bab3-d7bc5ab48857",
   "metadata": {},
   "outputs": [
    {
     "data": {
      "text/plain": [
       "<BarContainer object of 30 artists>"
      ]
     },
     "execution_count": 383,
     "metadata": {},
     "output_type": "execute_result"
    },
    {
     "data": {
      "image/png": "[encoded data removed]",
      "text/plain": [
       "<Figure size 432x288 with 1 Axes>"
      ]
     },
     "metadata": {
      "needs_background": "light"
     },
     "output_type": "display_data"
    }
   ],
   "source": [
    "plt.barh(pd.DataFrame(X_train).columns[sorted_idx], xg.feature_importances_[sorted_idx])"
   ]
  },
  {
   "cell_type": "code",
   "execution_count": 384,
   "id": "1cfccb4e-033e-4f3e-8a42-cba2d8744f7d",
   "metadata": {},
   "outputs": [
    {
     "data": {
      "text/plain": [
       "<BarContainer object of 30 artists>"
      ]
     },
     "execution_count": 384,
     "metadata": {},
     "output_type": "execute_result"
    },
    {
     "data": {
      "image/png": "[encoded data removed]",
      "text/plain": [
       "<Figure size 432x288 with 1 Axes>"
      ]
     },
     "metadata": {
      "needs_background": "light"
     },
     "output_type": "display_data"
    }
   ],
   "source": [
    "plt.barh(pd.DataFrame(X).columns[sorted_idx], xg.feature_importances_[sorted_idx])"
   ]
  },
  {
   "cell_type": "code",
   "execution_count": 279,
   "id": "8afc31ba-8660-492e-bec0-a5c544239d50",
   "metadata": {},
   "outputs": [],
   "source": [
    "X1=pd.DataFrame(X)"
   ]
  },
  {
   "cell_type": "code",
   "execution_count": 385,
   "id": "72100c3a-d108-4830-ab5a-401978f54fb3",
   "metadata": {},
   "outputs": [],
   "source": [
    "vars=list(pd.DataFrame(X).columns[sorted_idx][0:30])"
   ]
  },
  {
   "cell_type": "markdown",
   "id": "2252c986-7a88-4328-9b82-da16e2ebd5e3",
   "metadata": {
    "tags": []
   },
   "source": [
    "## Adjusting the Train/Test/Validation Data with top 30 Features"
   ]
  },
  {
   "cell_type": "code",
   "execution_count": 440,
   "id": "7cde8e05-0831-4265-a2af-41ca5a62eb0a",
   "metadata": {},
   "outputs": [],
   "source": [
    "X1_train=pd.DataFrame(X_train)\n",
    "X1_train=X1_train[vars]"
   ]
  },
  {
   "cell_type": "code",
   "execution_count": 441,
   "id": "1fd96264-f3bd-4b6e-82aa-c2a26b05e58d",
   "metadata": {},
   "outputs": [],
   "source": [
    "X1_test=pd.DataFrame(X_test)\n",
    "X1_test=X1_test[vars]"
   ]
  },
  {
   "cell_type": "code",
   "execution_count": 442,
   "id": "9c98bbc9-fd1b-4e29-9049-a7b0b527789f",
   "metadata": {},
   "outputs": [],
   "source": [
    "X1_valid=pd.DataFrame(X_valid)\n",
    "X1_valid=X1_valid[vars]"
   ]
  },
  {
   "cell_type": "markdown",
   "id": "0be96f34-1be2-437a-a7dc-359b3d840a3a",
   "metadata": {},
   "source": [
    "## Hyper-Parameter Tuning with Bayesian Optimization (HyperOpt)"
   ]
  },
  {
   "cell_type": "code",
   "execution_count": 399,
   "id": "56566003-6b60-4b7e-948d-ed45ad829b96",
   "metadata": {},
   "outputs": [],
   "source": [
    "# https://www.kaggle.com/code/prashant111/a-guide-on-xgboost-hyperparameters-tuning/notebook\n",
    "# import machine learning libraries\n",
    "import xgboost as xgb\n",
    "from sklearn.metrics import accuracy_score\n",
    "# import packages for hyperparameters tuning\n",
    "from hyperopt import STATUS_OK, Trials, fmin, hp, tpe"
   ]
  },
  {
   "cell_type": "code",
   "execution_count": 443,
   "id": "f6a841a6-319d-47f4-905c-5eb3f0d37f7c",
   "metadata": {},
   "outputs": [],
   "source": [
    "space={'max_depth': hp.quniform(\"max_depth\", 3, 18, 1),\n",
    "        'gamma': hp.uniform ('gamma', 1,9),\n",
    "        'reg_alpha' : hp.quniform('reg_alpha', 40,180,1),\n",
    "        'reg_lambda' : hp.uniform('reg_lambda', 0,1),\n",
    "        'colsample_bytree' : hp.uniform('colsample_bytree', 0.5,1),\n",
    "        'min_child_weight' : hp.quniform('min_child_weight', 0, 10, 1),\n",
    "        'n_estimators': 180,\n",
    "        'seed': 0\n",
    "    }"
   ]
  },
  {
   "cell_type": "code",
   "execution_count": 449,
   "id": "ca23d280-b944-4722-a784-b105d72bd08d",
   "metadata": {},
   "outputs": [],
   "source": [
    "def objective(space):\n",
    "    clf=xgb.XGBClassifier(\n",
    "                    n_estimators =space['n_estimators'], objective='multi:softprob', max_depth = int(space['max_depth']), gamma = space['gamma'],\n",
    "                    reg_alpha = int(space['reg_alpha']), min_child_weight=int(space['min_child_weight']),\n",
    "                    colsample_bytree=int(space['colsample_bytree']))\n",
    "    \n",
    "    evaluation = [( X1_train, y_train), ( X1_valid, y_valid)]\n",
    "    \n",
    "    clf.fit(X1_train, y_train, sample_weight=weights,\n",
    "            eval_set=evaluation, eval_metric=\"mlogloss\",\n",
    "            early_stopping_rounds=10,verbose=False)\n",
    "    pred = clf.predict(X1_valid)\n",
    "    accuracy = accuracy_score(y_valid, pred>0.5)\n",
    "    print (\"SCORE:\", accuracy)\n",
    "    return {'loss': -accuracy, 'status': STATUS_OK }"
   ]
  },
  {
   "cell_type": "code",
   "execution_count": 9,
   "id": "48d1503d-5f75-4c86-99fa-23a68fcb7455",
   "metadata": {
    "tags": []
   },
   "outputs": [
    {
     "ename": "NameError",
     "evalue": "name 'Trials' is not defined",
     "output_type": "error",
     "traceback": [
      "\u001b[0;31m---------------------------------------------------------------------------\u001b[0m",
      "\u001b[0;31mNameError\u001b[0m                                 Traceback (most recent call last)",
      "Input \u001b[0;32mIn [9]\u001b[0m, in \u001b[0;36m<cell line: 1>\u001b[0;34m()\u001b[0m\n\u001b[0;32m----> 1\u001b[0m trials \u001b[38;5;241m=\u001b[39m \u001b[43mTrials\u001b[49m()\n\u001b[1;32m      3\u001b[0m best_hyperparams \u001b[38;5;241m=\u001b[39m fmin(fn \u001b[38;5;241m=\u001b[39m objective,\n\u001b[1;32m      4\u001b[0m                         space \u001b[38;5;241m=\u001b[39m space,\n\u001b[1;32m      5\u001b[0m                         algo \u001b[38;5;241m=\u001b[39m tpe\u001b[38;5;241m.\u001b[39msuggest,\n\u001b[1;32m      6\u001b[0m                         max_evals \u001b[38;5;241m=\u001b[39m \u001b[38;5;241m3\u001b[39m\n\u001b[1;32m      7\u001b[0m                         )\n",
      "\u001b[0;31mNameError\u001b[0m: name 'Trials' is not defined"
     ]
    }
   ],
   "source": [
    "trials = Trials()\n",
    "\n",
    "best_hyperparams = fmin(fn = objective,\n",
    "                        space = space,\n",
    "                        algo = tpe.suggest,\n",
    "                        max_evals = 3\n",
    "                        )"
   ]
  },
  {
   "cell_type": "code",
   "execution_count": 421,
   "id": "8d56d759-bb4c-493f-8c41-06227b35a9c3",
   "metadata": {},
   "outputs": [
    {
     "name": "stdout",
     "output_type": "stream",
     "text": [
      "The best hyperparameters are :  \n",
      "\n",
      "{'colsample_bytree': 0.661305756064139, 'gamma': 4.219227099147604, 'max_depth': 3.0, 'min_child_weight': 7.0, 'reg_alpha': 57.0, 'reg_lambda': 0.8648119058693138}\n"
     ]
    }
   ],
   "source": [
    "print(\"The best hyperparameters are : \",\"\\n\")\n",
    "print(best_hyperparams)"
   ]
  },
  {
   "cell_type": "markdown",
   "id": "cf987364-95e9-412e-823b-eeb194632332",
   "metadata": {},
   "source": [
    "## Storing the Model"
   ]
  },
  {
   "cell_type": "code",
   "execution_count": 314,
   "id": "cc5d8efd-3002-48fc-b6c9-58ff5d2f49d6",
   "metadata": {},
   "outputs": [],
   "source": [
    "pickl1 = {'parameters': best_hyperparams}\n",
    "pickle.dump(pickl1, open('param_file'+'.p','wb'))"
   ]
  },
  {
   "cell_type": "code",
   "execution_count": 315,
   "id": "63f3f575-7071-4331-83b3-d5a1da412ba8",
   "metadata": {},
   "outputs": [],
   "source": [
    "with open('params.txt', 'w') as f:\n",
    "    f.write(paramus)"
   ]
  },
  {
   "cell_type": "markdown",
   "id": "777d6ba0-defe-4ff0-ad79-a7ee59af0c5c",
   "metadata": {},
   "source": [
    "## Train the Model with best Parameters"
   ]
  },
  {
   "cell_type": "code",
   "execution_count": 424,
   "id": "c0bb3b69-5835-44b6-8507-2373b3718374",
   "metadata": {},
   "outputs": [
    {
     "data": {
      "text/html": [
       "<style>#sk-container-id-7 {color: black;background-color: white;}#sk-container-id-7 pre{padding: 0;}#sk-container-id-7 div.sk-toggleable {background-color: white;}#sk-container-id-7 label.sk-toggleable__label {cursor: pointer;display: block;width: 100%;margin-bottom: 0;padding: 0.3em;box-sizing: border-box;text-align: center;}#sk-container-id-7 label.sk-toggleable__label-arrow:before {content: \"▸\";float: left;margin-right: 0.25em;color: #696969;}#sk-container-id-7 label.sk-toggleable__label-arrow:hover:before {color: black;}#sk-container-id-7 div.sk-estimator:hover label.sk-toggleable__label-arrow:before {color: black;}#sk-container-id-7 div.sk-toggleable__content {max-height: 0;max-width: 0;overflow: hidden;text-align: left;background-color: #f0f8ff;}#sk-container-id-7 div.sk-toggleable__content pre {margin: 0.2em;color: black;border-radius: 0.25em;background-color: #f0f8ff;}#sk-container-id-7 input.sk-toggleable__control:checked~div.sk-toggleable__content {max-height: 200px;max-width: 100%;overflow: auto;}#sk-container-id-7 input.sk-toggleable__control:checked~label.sk-toggleable__label-arrow:before {content: \"▾\";}#sk-container-id-7 div.sk-estimator input.sk-toggleable__control:checked~label.sk-toggleable__label {background-color: #d4ebff;}#sk-container-id-7 div.sk-label input.sk-toggleable__control:checked~label.sk-toggleable__label {background-color: #d4ebff;}#sk-container-id-7 input.sk-hidden--visually {border: 0;clip: rect(1px 1px 1px 1px);clip: rect(1px, 1px, 1px, 1px);height: 1px;margin: -1px;overflow: hidden;padding: 0;position: absolute;width: 1px;}#sk-container-id-7 div.sk-estimator {font-family: monospace;background-color: #f0f8ff;border: 1px dotted black;border-radius: 0.25em;box-sizing: border-box;margin-bottom: 0.5em;}#sk-container-id-7 div.sk-estimator:hover {background-color: #d4ebff;}#sk-container-id-7 div.sk-parallel-item::after {content: \"\";width: 100%;border-bottom: 1px solid gray;flex-grow: 1;}#sk-container-id-7 div.sk-label:hover label.sk-toggleable__label {background-color: #d4ebff;}#sk-container-id-7 div.sk-serial::before {content: \"\";position: absolute;border-left: 1px solid gray;box-sizing: border-box;top: 0;bottom: 0;left: 50%;z-index: 0;}#sk-container-id-7 div.sk-serial {display: flex;flex-direction: column;align-items: center;background-color: white;padding-right: 0.2em;padding-left: 0.2em;position: relative;}#sk-container-id-7 div.sk-item {position: relative;z-index: 1;}#sk-container-id-7 div.sk-parallel {display: flex;align-items: stretch;justify-content: center;background-color: white;position: relative;}#sk-container-id-7 div.sk-item::before, #sk-container-id-7 div.sk-parallel-item::before {content: \"\";position: absolute;border-left: 1px solid gray;box-sizing: border-box;top: 0;bottom: 0;left: 50%;z-index: -1;}#sk-container-id-7 div.sk-parallel-item {display: flex;flex-direction: column;z-index: 1;position: relative;background-color: white;}#sk-container-id-7 div.sk-parallel-item:first-child::after {align-self: flex-end;width: 50%;}#sk-container-id-7 div.sk-parallel-item:last-child::after {align-self: flex-start;width: 50%;}#sk-container-id-7 div.sk-parallel-item:only-child::after {width: 0;}#sk-container-id-7 div.sk-dashed-wrapped {border: 1px dashed gray;margin: 0 0.4em 0.5em 0.4em;box-sizing: border-box;padding-bottom: 0.4em;background-color: white;}#sk-container-id-7 div.sk-label label {font-family: monospace;font-weight: bold;display: inline-block;line-height: 1.2em;}#sk-container-id-7 div.sk-label-container {text-align: center;}#sk-container-id-7 div.sk-container {/* jupyter's `normalize.less` sets `[hidden] { display: none; }` but bootstrap.min.css set `[hidden] { display: none !important; }` so we also need the `!important` here to be able to override the default hidden behavior on the sphinx rendered scikit-learn.org. See: https://github.com/scikit-learn/scikit-learn/issues/21755 */display: inline-block !important;position: relative;}#sk-container-id-7 div.sk-text-repr-fallback {display: none;}</style><div id=\"sk-container-id-7\" class=\"sk-top-container\"><div class=\"sk-text-repr-fallback\"><pre>XGBClassifier(base_score=0.5, booster=&#x27;gbtree&#x27;, callbacks=None,\n",
       "              colsample_bylevel=1, colsample_bynode=1, colsample_bytree=1,\n",
       "              early_stopping_rounds=None, enable_categorical=False,\n",
       "              eval_metric=None, gamma=0, gpu_id=-1, grow_policy=&#x27;depthwise&#x27;,\n",
       "              importance_type=None, interaction_constraints=&#x27;&#x27;,\n",
       "              learning_rate=0.300000012, max_bin=256, max_cat_to_onehot=4,\n",
       "              max_delta_step=0, max_depth=6, max_leaves=0, min_child_weight=1,\n",
       "              missing=nan, monotone_constraints=&#x27;()&#x27;, n_estimators=100,\n",
       "              n_jobs=0, num_parallel_tree=1, objective=&#x27;multi:softprob&#x27;,\n",
       "              predictor=&#x27;auto&#x27;, random_state=0, reg_alpha=0, ...)</pre><b>In a Jupyter environment, please rerun this cell to show the HTML representation or trust the notebook. <br />On GitHub, the HTML representation is unable to render, please try loading this page with nbviewer.org.</b></div><div class=\"sk-container\" hidden><div class=\"sk-item\"><div class=\"sk-estimator sk-toggleable\"><input class=\"sk-toggleable__control sk-hidden--visually\" id=\"sk-estimator-id-7\" type=\"checkbox\" checked><label for=\"sk-estimator-id-7\" class=\"sk-toggleable__label sk-toggleable__label-arrow\">XGBClassifier</label><div class=\"sk-toggleable__content\"><pre>XGBClassifier(base_score=0.5, booster=&#x27;gbtree&#x27;, callbacks=None,\n",
       "              colsample_bylevel=1, colsample_bynode=1, colsample_bytree=1,\n",
       "              early_stopping_rounds=None, enable_categorical=False,\n",
       "              eval_metric=None, gamma=0, gpu_id=-1, grow_policy=&#x27;depthwise&#x27;,\n",
       "              importance_type=None, interaction_constraints=&#x27;&#x27;,\n",
       "              learning_rate=0.300000012, max_bin=256, max_cat_to_onehot=4,\n",
       "              max_delta_step=0, max_depth=6, max_leaves=0, min_child_weight=1,\n",
       "              missing=nan, monotone_constraints=&#x27;()&#x27;, n_estimators=100,\n",
       "              n_jobs=0, num_parallel_tree=1, objective=&#x27;multi:softprob&#x27;,\n",
       "              predictor=&#x27;auto&#x27;, random_state=0, reg_alpha=0, ...)</pre></div></div></div></div></div>"
      ],
      "text/plain": [
       "XGBClassifier(base_score=0.5, booster='gbtree', callbacks=None,\n",
       "              colsample_bylevel=1, colsample_bynode=1, colsample_bytree=1,\n",
       "              early_stopping_rounds=None, enable_categorical=False,\n",
       "              eval_metric=None, gamma=0, gpu_id=-1, grow_policy='depthwise',\n",
       "              importance_type=None, interaction_constraints='',\n",
       "              learning_rate=0.300000012, max_bin=256, max_cat_to_onehot=4,\n",
       "              max_delta_step=0, max_depth=6, max_leaves=0, min_child_weight=1,\n",
       "              missing=nan, monotone_constraints='()', n_estimators=100,\n",
       "              n_jobs=0, num_parallel_tree=1, objective='multi:softprob',\n",
       "              predictor='auto', random_state=0, reg_alpha=0, ...)"
      ]
     },
     "execution_count": 424,
     "metadata": {},
     "output_type": "execute_result"
    }
   ],
   "source": [
    "clf=xgb.XGBClassifier(best_hyperparams)\n",
    "clf.fit(X1_train, y_train, sample_weight=weights)"
   ]
  },
  {
   "cell_type": "code",
   "execution_count": 425,
   "id": "5c4acef9-2b2a-4d95-93b0-a6ee51c19271",
   "metadata": {},
   "outputs": [],
   "source": [
    "#Predict training set:\n",
    "dtrain_predictions = clf.predict(X1_train)"
   ]
  },
  {
   "cell_type": "markdown",
   "id": "8f55c047-147b-4a37-9e3f-8da52a67cb9c",
   "metadata": {},
   "source": [
    "## Model Success Metrics"
   ]
  },
  {
   "cell_type": "code",
   "execution_count": null,
   "id": "5ae08ac5-ae1e-4b31-8f3c-e580dbb8abb7",
   "metadata": {},
   "outputs": [],
   "source": [
    "# https://mljar.com/blog/feature-importance-xgboost/"
   ]
  },
  {
   "cell_type": "code",
   "execution_count": 426,
   "id": "d4da9235-6043-4fec-a10e-a0c18b43abc4",
   "metadata": {},
   "outputs": [],
   "source": [
    "import matplotlib.pyplot as plt\n",
    "from sklearn.metrics import ConfusionMatrixDisplay,accuracy_score,  confusion_matrix,roc_curve, roc_auc_score, precision_score,classification_report, recall_score,f1_score, precision_recall_curve , log_loss"
   ]
  },
  {
   "cell_type": "code",
   "execution_count": 427,
   "id": "d786362c-9aec-4373-9915-e9a574ec1a6f",
   "metadata": {},
   "outputs": [
    {
     "name": "stdout",
     "output_type": "stream",
     "text": [
      "Train Accuracy:0.34174159354045586\n",
      "Train F1-Score(Micro):0.34174159354045586\n",
      "------\n",
      "Test Accuracy:0.33958343186446704\n",
      "Test F1-Score(Micro):0.33958343186446704\n"
     ]
    }
   ],
   "source": [
    "predicted_labels = clf.predict(X1_test)\n",
    "train_pred = clf.predict(X1_train)\n",
    "print('Train Accuracy:'+str(accuracy_score(y_train, train_pred)))\n",
    "print('Train F1-Score(Micro):'+str(f1_score(y_train, train_pred,average='micro')))\n",
    "print('------')\n",
    "print('Test Accuracy:'+str(accuracy_score(y_test, predicted_labels)))\n",
    "print('Test F1-Score(Micro):'+str(f1_score(y_test, predicted_labels,average='micro')))\n"
   ]
  },
  {
   "cell_type": "code",
   "execution_count": 428,
   "id": "9c7ff5f9-9dcc-4bf4-889b-70607bf42d9c",
   "metadata": {},
   "outputs": [
    {
     "data": {
      "text/plain": [
       "array([[252573,   1250, 154334,  69384,  87055,  60492],\n",
       "       [ 41876,   1334,  28246,  53662,  75312,  37758],\n",
       "       [ 94084,    429, 202279,  58102,  54869,  58507],\n",
       "       [  7810,    138,   9475,  14599,  15554,   9243],\n",
       "       [   676,      8,    741,    942,   2748,    868],\n",
       "       [   127,      0,    226,    177,    265,    355]])"
      ]
     },
     "execution_count": 428,
     "metadata": {},
     "output_type": "execute_result"
    }
   ],
   "source": [
    "confusion_matrix(y_test, predicted_labels)"
   ]
  },
  {
   "cell_type": "code",
   "execution_count": 429,
   "id": "1b010023-d5bb-4eef-886a-8ceae352c512",
   "metadata": {},
   "outputs": [
    {
     "name": "stdout",
     "output_type": "stream",
     "text": [
      "              precision    recall  f1-score   support\n",
      "\n",
      "           0       0.64      0.40      0.49    625088\n",
      "           1       0.42      0.01      0.01    238188\n",
      "           2       0.51      0.43      0.47    468270\n",
      "           3       0.07      0.26      0.12     56819\n",
      "           4       0.01      0.46      0.02      5983\n",
      "           5       0.00      0.31      0.00      1150\n",
      "\n",
      "    accuracy                           0.34   1395498\n",
      "   macro avg       0.28      0.31      0.19   1395498\n",
      "weighted avg       0.53      0.34      0.39   1395498\n",
      "\n"
     ]
    }
   ],
   "source": [
    "from sklearn.metrics import classification_report\n",
    "print(classification_report(y_test, predicted_labels))"
   ]
  },
  {
   "cell_type": "code",
   "execution_count": 430,
   "id": "cda8ad96-3bfc-410a-9602-aff1e485a294",
   "metadata": {},
   "outputs": [
    {
     "name": "stdout",
     "output_type": "stream",
     "text": [
      "              precision    recall  f1-score   support\n",
      "\n",
      "           0       0.41      0.64      0.50   1473214\n",
      "           1       0.01      0.45      0.01     12046\n",
      "           2       0.43      0.51      0.47   1470890\n",
      "           3       0.27      0.08      0.12    730476\n",
      "           4       0.53      0.01      0.03    873852\n",
      "           5       0.59      0.00      0.01    622798\n",
      "\n",
      "    accuracy                           0.34   5183276\n",
      "   macro avg       0.37      0.28      0.19   5183276\n",
      "weighted avg       0.44      0.34      0.30   5183276\n",
      "\n"
     ]
    }
   ],
   "source": [
    "from sklearn.metrics import classification_report\n",
    "print(classification_report(train_pred, y_train))"
   ]
  },
  {
   "cell_type": "code",
   "execution_count": 8,
   "id": "d502280d-9a18-4b3b-8d7a-466471d8e011",
   "metadata": {},
   "outputs": [
    {
     "ename": "NameError",
     "evalue": "name 'clf' is not defined",
     "output_type": "error",
     "traceback": [
      "\u001b[0;31m---------------------------------------------------------------------------\u001b[0m",
      "\u001b[0;31mNameError\u001b[0m                                 Traceback (most recent call last)",
      "Input \u001b[0;32mIn [8]\u001b[0m, in \u001b[0;36m<cell line: 2>\u001b[0;34m()\u001b[0m\n\u001b[1;32m      1\u001b[0m \u001b[38;5;28;01mfrom\u001b[39;00m \u001b[38;5;21;01mxgboost\u001b[39;00m \u001b[38;5;28;01mimport\u001b[39;00m plot_importance\n\u001b[0;32m----> 2\u001b[0m plot_importance(\u001b[43mclf\u001b[49m)\n",
      "\u001b[0;31mNameError\u001b[0m: name 'clf' is not defined"
     ]
    }
   ],
   "source": [
    "from xgboost import plot_importance\n",
    "plot_importance(clf)"
   ]
  },
  {
   "cell_type": "code",
   "execution_count": 30,
   "id": "340efd53-db24-45ad-9446-50cc402cf6e4",
   "metadata": {},
   "outputs": [
    {
     "name": "stdout",
     "output_type": "stream",
     "text": [
      "Initiliazing XG-Boost Model Training\n",
      "Initiliazing Predictions for clustering Data\n"
     ]
    },
    {
     "name": "stderr",
     "output_type": "stream",
     "text": [
      "100%|██████████| 1/1 [00:00<00:00, 8630.26it/s]\n"
     ]
    }
   ],
   "source": [
    "  \n",
    "from google.oauth2 import service_account\n",
    "from google.cloud import bigquery\n",
    "from google.cloud import bigquery_storage\n",
    "from sklearn.calibration import CalibratedClassifierCV\n",
    "import pandas as pd\n",
    "import numpy as np\n",
    "import pickle\n",
    "from functools import partial\n",
    "import warnings\n",
    "from concurrent.futures import ProcessPoolExecutor\n",
    "warnings.filterwarnings('ignore')\n",
    "import grpc\n",
    "import time\n",
    "import pandas_gbq\n",
    "from xgboost import XGBClassifier\n",
    "from xgboost import plot_importance\n",
    "from matplotlib import pyplot\n",
    "\n",
    "key_path = '/home/jupyter/d00_key.json'\n",
    "credentials = service_account.Credentials.from_service_account_file(\n",
    "    key_path,\n",
    "    scopes=[\"https://www.googleapis.com/auth/cloud-platform\"],\n",
    ")\n",
    "\n",
    "\n",
    "def get_client(credentials):\n",
    "    bq_client = bigquery.Client(credentials=credentials,\n",
    "                                project=credentials.project_id)\n",
    "    bqstorageclient = bigquery_storage.BigQueryReadClient(\n",
    "        credentials=credentials)\n",
    "    return bq_client, bqstorageclient\n",
    "  \n",
    "    \n",
    "\n",
    "def data_upload(QUERY):\n",
    "    key_path = '/home/jupyter/d00_key.json'\n",
    "    credentials = service_account.Credentials.from_service_account_file(\n",
    "        key_path,\n",
    "        scopes=[\"https://www.googleapis.com/auth/cloud-platform\"],\n",
    "    )\n",
    "\n",
    "    bq_client = bigquery.Client(credentials=credentials,\n",
    "                                project=credentials.project_id)\n",
    "    bqstorageclient = bigquery_storage.BigQueryReadClient(\n",
    "        credentials=credentials)\n",
    "\n",
    "    data = bq_client.query(QUERY).result().to_dataframe(\n",
    "        bqstorage_client=bqstorageclient)\n",
    "\n",
    "    return data\n",
    "\n",
    "def model_cali(training_data, prod_list):\n",
    "    print(\"Initiliazing XG-Boost Model Training\")\n",
    "    y = pd.DataFrame()\n",
    "    x = training_data[[\n",
    "        'BBB_INSTORE_M_DECILE_2Y', 'A_AAP000447N_ASET_PRPN_DIS_INC',\n",
    "        'time_interval', 'PH_DM_RECENCY', 'AVG_NET_SALES_PER_TXN',\n",
    "        'COUPON_SALES_Q_08', 'A_A3101N_RACE_WHITE', 'BBB_R_2Y', 'MOVER',\n",
    "        'NUM_MERCH_DIVISIONS', 'AVG_TOTAL_ITEMS_PER_TXN', 'A_A8588N_HM_SQR_FT',\n",
    "        'PH_MREDEEM730D_PERC'\n",
    "    ]]\n",
    "    x = pd.to_numeric(x.stack(), errors='coerce').unstack()\n",
    "    for col in x.columns:\n",
    "        if 'DECILE' in col:\n",
    "            x[col].fillna(11, inplace=True)\n",
    "        elif '_R_2Y' in col and 'DECILE' not in col:\n",
    "            x[col].fillna(720, inplace=True)\n",
    "        elif 'RECENCY' in col and 'DECILE' not in col:\n",
    "            x[col].fillna(365, inplace=True)\n",
    "        else:\n",
    "            x[col].fillna(0, inplace=True)\n",
    "    \n",
    "    \n",
    "    for i in prod_list['pdm_prod_type_id']:\n",
    "        prod = int(i)\n",
    "        data2 = training_data\n",
    "        file_save = \"./cali_model_\" + str(prod) + \".pkl\"\n",
    "        file = \"cali_model_\" + str(prod) + \".pkl\"\n",
    "        var = \"cali_model_\" + str(prod)\n",
    "        # data2.to_pickle(str1)\n",
    "        y[\"target\"] = np.where(data2[\"pdm_prod_type_id\"] == i, 1, 0)\n",
    "        y1 = y[\"target\"].astype(int)\n",
    "        # fit model no training data\n",
    "        z = XGBClassifier(learning_rate=0.01,\n",
    "                          n_estimators=1000,\n",
    "                          gamma=0,\n",
    "                          subsample=0.9,\n",
    "                          colsample_bytree=0.6,\n",
    "                          objective='binary:logistic',\n",
    "                          nthread=4,\n",
    "                          scale_pos_weight=1,\n",
    "                          n_jobs=77,\n",
    "                          max_depth=5)\n",
    "        z.fit(x, y1.values.ravel())\n",
    "        xgb_cali = CalibratedClassifierCV(base_estimator=z,\n",
    "                                  method='isotonic',\n",
    "                                  cv='prefit',\n",
    "                                  n_jobs=50,\n",
    "                                 )\n",
    "        xgb_cali.fit(x, y1.values.ravel())\n",
    "        pickle.dump(z, open(file_save, 'wb'))\n",
    "        \n",
    "def model_predict(score,prod_type):\n",
    "    print(\"Initiliazing Predictions for clustering Data\")\n",
    "    score = score.reset_index(drop=True)\n",
    "    out = pd.DataFrame()\n",
    "    df_out = pd.DataFrame()\n",
    "    prob1 = pd.DataFrame()\n",
    "    customers=score[\"customer_id\"]\n",
    "    x_data = score[[\n",
    "        'BBB_INSTORE_M_DECILE_2Y', 'A_AAP000447N_ASET_PRPN_DIS_INC',\n",
    "        'time_interval', 'PH_DM_RECENCY', 'AVG_NET_SALES_PER_TXN',\n",
    "        'COUPON_SALES_Q_08', 'A_A3101N_RACE_WHITE', 'BBB_R_2Y', 'MOVER',\n",
    "        'NUM_MERCH_DIVISIONS', 'AVG_TOTAL_ITEMS_PER_TXN', 'A_A8588N_HM_SQR_FT',\n",
    "        'PH_MREDEEM730D_PERC'\n",
    "    ]] \n",
    "    x_data = pd.to_numeric(x_data.stack(), errors='coerce').unstack()\n",
    "    for col in x_data.columns:\n",
    "        if 'DECILE' in col:\n",
    "            x_data[col].fillna(11, inplace=True)\n",
    "        elif '_R_2Y' in col and 'DECILE' not in col:\n",
    "            x_data[col].fillna(720, inplace=True)\n",
    "        elif 'RECENCY' in col and 'DECILE' not in col:\n",
    "            x_data[col].fillna(365, inplace=True)\n",
    "        else:\n",
    "            x_data[col].fillna(0, inplace=True)\n",
    "    \n",
    "    \n",
    "    for i in prod_type['pdm_prod_type_id']:\n",
    "        z = pickle.load(open(\"cali_model_\" + str(int(i)) + \".pkl\", 'rb'))\n",
    "        probn = z.predict_proba(x_data) \n",
    "        prob1=pd.DataFrame(data = probn[:, 1], columns = ['p'], index = x_data.index.copy())\n",
    "        prob1[\"pdm_prod_type_id\"]=int(i)\n",
    "        df_out = pd.merge(customers,\n",
    "                          pd.DataFrame(prob1),\n",
    "                          how='left',\n",
    "                          left_index=True,\n",
    "                          right_index=True)\n",
    "        out = pd.concat([out, df_out])\n",
    "        pickle.dump(out, open(\"./prod_type_p.pkl\", 'wb'))\n",
    "    return out        \n",
    "     \n",
    "\n",
    "\n",
    "def cluster_data_format(predictions):\n",
    "    predictions_wide=pd.pivot(predictions, index=['customer_id'], columns ='pdm_prod_type_id',values= 'p') \n",
    "    column_names=predictions_wide.columns.values.tolist()\n",
    "    column_names_prep = [\"p\" + str(sub) for sub in column_names]\n",
    "    predictions_wide.columns=column_names_prep\n",
    "    predictions_wide['customer_id'] = predictions_wide.index\n",
    "    predictions_wide = predictions_wide.reset_index(drop=True)\n",
    "    return predictions_wide\n",
    "    \n",
    "def main():\n",
    "    training_data_query = \"\"\"SELECT * FROM `dw-bq-data-d00.SANDBOX_ANALYTICS.reengagement_product_recommendation_training` limit 1000\"\"\"\n",
    "    top99_prod_types_query = \"\"\"SELECT * FROM `dw-bq-data-d00.SANDBOX_ANALYTICS.shopping_prod` limit 2\"\"\"\n",
    "    train_to_predict_query = \"\"\"SELECT customer_id, BBB_INSTORE_M_DECILE_2Y, A_AAP000447N_ASET_PRPN_DIS_INC, time_interval, \n",
    "    PH_MREDEEM730D_PERC,PH_DM_RECENCY, AVG_NET_SALES_PER_TXN, COUPON_SALES_Q_08, A_A3101N_RACE_WHITE, \n",
    "    BBB_R_2Y,MOVER, NUM_MERCH_DIVISIONS, AVG_TOTAL_ITEMS_PER_TXN, A_A8588N_HM_SQR_FT \n",
    "    FROM `dw-bq-data-d00.SANDBOX_ANALYTICS.reengagement_product_recommendation_training` \n",
    "    group by 1,2,3,4,5,6,7,8,9,10,11,12,13,14 limit 100\n",
    "\"\"\"\n",
    "    training_data = data_upload(training_data_query)\n",
    "    training_data = training_data.sample(frac=0.60)\n",
    "    top99_prod_types = data_upload(top99_prod_types_query)\n",
    "    top99_prod_types=top99_prod_types[1:]\n",
    "    train_to_predict = data_upload(train_to_predict_query)\n",
    "    model_cali(training_data, top99_prod_types)\n",
    "    prediction_output = model_predict(train_to_predict, top99_prod_types)\n",
    "    clustering_data = cluster_data_format(prediction_output)\n",
    "    output_name = \"prod_type_cluster_data\"\n",
    "    clustering_data.to_gbq(destination_table=f'SANDBOX_ANALYTICS.prod_type_cluster_data',\n",
    "                project_id=credentials.project_id,\n",
    "                if_exists='replace',\n",
    "                credentials=credentials)\n",
    "\n",
    "\n",
    "\n",
    "if __name__ == \"__main__\":\n",
    "    main()\n",
    "\n"
   ]
  },
  {
   "cell_type": "code",
   "execution_count": null,
   "id": "7f518577-1f17-400c-a2ad-598b625d9224",
   "metadata": {},
   "outputs": [],
   "source": []
  }
 ],
 "metadata": {
  "environment": {
   "kernel": "conda-env-lapsed-py",
   "name": "tf2-gpu.2-6.m89",
   "type": "gcloud",
   "uri": "gcr.io/deeplearning-platform-release/tf2-gpu.2-6:m89"
  },
  "kernelspec": {
   "display_name": "Python [conda env:lapsed]",
   "language": "python",
   "name": "conda-env-lapsed-py"
  },
  "language_info": {
   "codemirror_mode": {
    "name": "ipython",
    "version": 3
   },
   "file_extension": ".py",
   "mimetype": "text/x-python",
   "name": "python",
   "nbconvert_exporter": "python",
   "pygments_lexer": "ipython3",
   "version": "3.10.4"
  }
 },
 "nbformat": 4,
 "nbformat_minor": 5
}
